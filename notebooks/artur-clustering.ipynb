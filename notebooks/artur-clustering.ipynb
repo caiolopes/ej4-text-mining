{
 "cells": [
  {
   "cell_type": "code",
   "execution_count": 58,
   "metadata": {},
   "outputs": [],
   "source": [
    "from sklearn.feature_extraction.text import TfidfVectorizer, CountVectorizer\n",
    "from sklearn.decomposition import LatentDirichletAllocation\n",
    "from glob import glob\n",
    "import pandas as pd\n",
    "import nltk\n",
    "import re\n",
    "from gensim.models import KeyedVectors\n",
    "from nltk.tokenize import word_tokenize"
   ]
  },
  {
   "cell_type": "code",
   "execution_count": 59,
   "metadata": {},
   "outputs": [],
   "source": [
    "model = KeyedVectors.load_word2vec_format('../../glove_s100.txt', unicode_errors=\"ignore\")"
   ]
  },
  {
   "cell_type": "code",
   "execution_count": 66,
   "metadata": {},
   "outputs": [],
   "source": [
    "vocab = set(list(model.vocab.keys()))"
   ]
  },
  {
   "cell_type": "code",
   "execution_count": 2,
   "metadata": {},
   "outputs": [],
   "source": [
    "files = glob('../data/*.txt')"
   ]
  },
  {
   "cell_type": "code",
   "execution_count": 3,
   "metadata": {},
   "outputs": [],
   "source": [
    "def open_file(file):\n",
    "    return open(file, 'r', encoding='cp1254').read()"
   ]
  },
  {
   "cell_type": "code",
   "execution_count": 4,
   "metadata": {},
   "outputs": [],
   "source": [
    "def get_middle(text):\n",
    "    split = text.split('\\n')\n",
    "    N = len(split)\n",
    "    return \" \".join(split[N//4:N//2])"
   ]
  },
  {
   "cell_type": "code",
   "execution_count": 14,
   "metadata": {},
   "outputs": [],
   "source": [
    "data = [get_middle(open_file(f)) for f in files[1:1000]]"
   ]
  },
  {
   "cell_type": "code",
   "execution_count": 15,
   "metadata": {},
   "outputs": [],
   "source": [
    "stopwords = nltk.corpus.stopwords.words('portuguese')"
   ]
  },
  {
   "cell_type": "code",
   "execution_count": 12,
   "metadata": {
    "scrolled": true
   },
   "outputs": [
    {
     "data": {
      "text/plain": [
       "728"
      ]
     },
     "execution_count": 12,
     "metadata": {},
     "output_type": "execute_result"
    }
   ],
   "source": [
    "len(data[0].split(' '))"
   ]
  },
  {
   "cell_type": "code",
   "execution_count": 13,
   "metadata": {
    "scrolled": true
   },
   "outputs": [
    {
     "data": {
      "text/plain": [
       "857"
      ]
     },
     "execution_count": 13,
     "metadata": {},
     "output_type": "execute_result"
    }
   ],
   "source": [
    "len(word_tokenize(data[0], language='portuguese'))"
   ]
  },
  {
   "cell_type": "code",
   "execution_count": 17,
   "metadata": {},
   "outputs": [],
   "source": [
    "# stopwords = pd.read_csv('stopwords.txt', header=None)"
   ]
  },
  {
   "cell_type": "code",
   "execution_count": 18,
   "metadata": {},
   "outputs": [],
   "source": [
    "# stopwords = stopwords.iloc[:, 0].values"
   ]
  },
  {
   "cell_type": "code",
   "execution_count": 19,
   "metadata": {},
   "outputs": [],
   "source": [
    "# stopwords = list(stopwords)"
   ]
  },
  {
   "cell_type": "code",
   "execution_count": 84,
   "metadata": {},
   "outputs": [],
   "source": [
    "encoder = CountVectorizer(encoding='cp1254', stop_words=stopwords, vocabulary=words)"
   ]
  },
  {
   "cell_type": "code",
   "execution_count": 85,
   "metadata": {},
   "outputs": [],
   "source": [
    "X = encoder.transform(data)"
   ]
  },
  {
   "cell_type": "code",
   "execution_count": 86,
   "metadata": {},
   "outputs": [],
   "source": [
    "feature_names = encoder.get_feature_names()"
   ]
  },
  {
   "cell_type": "code",
   "execution_count": 30,
   "metadata": {},
   "outputs": [],
   "source": [
    "m = re.search('\\[a-zA-Z]*', '1011')"
   ]
  },
  {
   "cell_type": "code",
   "execution_count": 46,
   "metadata": {},
   "outputs": [],
   "source": [
    "words = [word for word in feature_names if re.search('^[a-zA-Z]*$', word) and len(word) > 3]"
   ]
  },
  {
   "cell_type": "code",
   "execution_count": 68,
   "metadata": {},
   "outputs": [],
   "source": [
    "words = set(words)"
   ]
  },
  {
   "cell_type": "code",
   "execution_count": 73,
   "metadata": {
    "scrolled": false
   },
   "outputs": [],
   "source": [
    "words = words.intersection(vocab)"
   ]
  },
  {
   "cell_type": "code",
   "execution_count": 91,
   "metadata": {},
   "outputs": [],
   "source": [
    "pd.Series(list(words)).to_csv('../processed/vocab.csv', index=False)"
   ]
  },
  {
   "cell_type": "code",
   "execution_count": 76,
   "metadata": {},
   "outputs": [],
   "source": [
    "lda = LatentDirichletAllocation(n_components=20,n_jobs=8)"
   ]
  },
  {
   "cell_type": "code",
   "execution_count": 77,
   "metadata": {},
   "outputs": [
    {
     "name": "stderr",
     "output_type": "stream",
     "text": [
      "/usr/local/lib/python3.5/dist-packages/sklearn/decomposition/online_lda.py:532: DeprecationWarning: The default value for 'learning_method' will be changed from 'online' to 'batch' in the release 0.20. This warning was introduced in 0.18.\n",
      "  DeprecationWarning)\n"
     ]
    },
    {
     "data": {
      "text/plain": [
       "LatentDirichletAllocation(batch_size=128, doc_topic_prior=None,\n",
       "             evaluate_every=-1, learning_decay=0.7, learning_method=None,\n",
       "             learning_offset=10.0, max_doc_update_iter=100, max_iter=10,\n",
       "             mean_change_tol=0.001, n_components=20, n_jobs=8,\n",
       "             n_topics=None, perp_tol=0.1, random_state=None,\n",
       "             topic_word_prior=None, total_samples=1000000.0, verbose=0)"
      ]
     },
     "execution_count": 77,
     "metadata": {},
     "output_type": "execute_result"
    }
   ],
   "source": [
    "lda.fit(X)"
   ]
  },
  {
   "cell_type": "code",
   "execution_count": 88,
   "metadata": {},
   "outputs": [],
   "source": [
    "def display_topics(model, feature_names, no_top_words):\n",
    "    for topic_idx, topic in enumerate(model.components_):\n",
    "        print(\"Topic %d:\" % (topic_idx), end=' ')\n",
    "        print(\" \".join([feature_names[i] for i in topic.argsort()[:-no_top_words - 1:-1]]))\n",
    "        print('\\n')"
   ]
  },
  {
   "cell_type": "code",
   "execution_count": 89,
   "metadata": {},
   "outputs": [
    {
     "name": "stdout",
     "output_type": "stream",
     "text": [
      "Topic 0: juros taxa contrato tribunal contratos mensal superior consumidor mercado contratual recurso abusividade processo taxas resp caso encargos anual desde financeiras medida especial entendimento estado sobre sentido paulo forma sistema deve\n",
      "\n",
      "\n",
      "Topic 1: projudi tjpr assinado digitalmente identificador julgada deste https conforme arrendamento documento mercantil processo leasing procedente valor scanned improcedente termo contrato lima aluguel residual compra garantido posse manter correa cinco mensais\n",
      "\n",
      "\n",
      "Topic 2: arthur anota destina colegio perpetradas realizam abarrotando contam denomina invariavelmente prevenir repetitivas concordou exibida goncalves criar lembre imputada porto indistintamente lisura gerado dispuser despeito resguardo prova assegurar leud constantemente bauru\n",
      "\n",
      "\n",
      "Topic 3: operou abarcou despiciendo ipatinga coligidas exaurida matos possuindo processo exauriente tarifa meio parte financiamento contratos caso sobre termos partes conta civil abertura juros tarifas contrato tabela fato autora presente dados\n",
      "\n",
      "\n",
      "Topic 4: tjam manaus amazonas obter fraudes delitos praticados perguntas dentre perguntou respondem fortuito contratou consciente action advogado objetivamente aposento banqueiro determinado nada http interno empreendimento falsos diferenciadores representativo caracteres ditada certamente\n",
      "\n",
      "\n",
      "Topic 5: melo walda pierro juliana proclamou apreciados elencados negaram inepta suplantada inseridas discorrendo entabulados afirmou encontrar discrepantes explicitado exemplos convencionada delegado patente insuficiente recentes afigura acompanhar afastaram assunto lucros proferido classic\n",
      "\n",
      "\n",
      "Topic 6: relevantes urgentes ntos alvitrado obstado enquadrem desejar movido aparato vislumbradas adiar desconsiderado referendado ouvida acha prevalecer parte motivos documentos autora recebida justificativa compareceu autos caso deixar responsabilidade tendo contrato documento\n",
      "\n",
      "\n",
      "Topic 7: eveline soares equacionamento salientou entendiam helton afinal camargo monica senise aludindo plenitude rejeitadas exercitar dimas ensejado enumeradas instaurada aferimento evitada inferir teresa insucesso refletiam subvertendo bessa aduzido movimentou garantidor roscoe\n",
      "\n",
      "\n",
      "Topic 8: arquivo tjrr cardoso goytacazes admitindo insurgiu obrigar malila natascha ratificada gentil ewerton fundamentase satisfeitas atlanta pesem incorrendo finaciamento equiparada abordada comparece portela originariamente assinasse exames desemprego continuariam aduzido pretendiam pactuada\n",
      "\n",
      "\n",
      "Topic 9: ponta grossa oficinas saint hilaire fone juizado acao materia especial merito projudi comarca porem egregio tambem controlador questao peca exercicio hipotese apresentacao condicoes relatorio proprio espalhadas faltante levantadas atrial padrao\n",
      "\n",
      "\n",
      "Topic 10: consumidor contrato parte autora prova defesa direito dano valor civil caso autos autor responsabilidade fato danos assim qualquer artigo moral forma pagamento pois deve financeira processo conforme sendo partes ainda\n",
      "\n",
      "\n",
      "Topic 11: duplicidade escolhas tjro adoc desvincular marcadores adverso raimundo ivette pinheiro deliberada luana oddone tratados responsabilizar cliente nenhum correa saiba divino desarquivar traduzir fechar jacy enviar imprimir saiam agendar emitidos liquidadas\n",
      "\n",
      "\n",
      "Topic 12: guarapuava administrativos fazenda incidentes custos sustentabilidade sumula cobrados ilegais incidiram codigo mensais reflexos sobre juros vida criminal justica ribas ressalva indevidos quais pactuados manoel constituicao santana jurisprudencia consideradas comissao considerando\n",
      "\n",
      "\n",
      "Topic 13: autor autos original paulo tjsp caso documentos parte interesse assinado processo processual documento julgamento digitalmente partes foro estado https comarca conferir deve conforme autora contrato vara barretos provas assim tribunal\n",
      "\n",
      "\n",
      "Topic 14: processo autos documento documentos contrato autora autor parte pedido partes inicial direito requerida pagamento assinado financeira julgamento estado vara requerente financiamento banco requerido original digitalmente prova feito decido civil provas\n",
      "\n",
      "\n",
      "Topic 15: cooperador blob imprimir andamentos voltar fiscal mandado pagarlhe doravante tomem positis definitiva baixado transcrita consulta juros jornal juiz transitado baixa autos julgamento tribunal presidente financeira contrato arquivo advogado todos entregues\n",
      "\n",
      "\n",
      "Topic 16: barretos emitente composta alzir rossana insertos diogenes arguir promessa macedo tjrn elaborados certa examine http relatorios ditados enfatizando numen avaliando garantidor abrindo marzano provi gerida deliberadamente fixe letra criativa formais\n",
      "\n",
      "\n",
      "Topic 17: jales comarca antonio fernando eliane guarulhos lima ordem paulo vara natalia schrader ibrahim social fundamental rafael geralmente desrespeito amaral desigualdades contraponto simples poderio original carneiro diretor treze sebastiana frota abril\n",
      "\n",
      "\n",
      "Topic 18: tarifa tarifas projudi abertura cadastro caso contrato tjpr financeiras sobre contratos financiamento assinado recurso digitalmente consumidor previstas financeira relacionamento cobrada norma fato desde gerador outra autoridade tese forma dados banco\n",
      "\n",
      "\n",
      "Topic 19: consumidor produtos sobre contratos consumo fornecedor contrato direito conhecimento instrumento contratuais termos casos forma modo redigidos tendo juros realidade diferentes poder ainda caso consumidores pode fazer financiamento analfabeto civil acesso\n",
      "\n",
      "\n"
     ]
    }
   ],
   "source": [
    "display_topics(lda, feature_names, 30)"
   ]
  },
  {
   "cell_type": "code",
   "execution_count": null,
   "metadata": {},
   "outputs": [],
   "source": []
  }
 ],
 "metadata": {
  "kernelspec": {
   "display_name": "Python 3",
   "language": "python",
   "name": "python3"
  },
  "language_info": {
   "codemirror_mode": {
    "name": "ipython",
    "version": 3
   },
   "file_extension": ".py",
   "mimetype": "text/x-python",
   "name": "python",
   "nbconvert_exporter": "python",
   "pygments_lexer": "ipython3",
   "version": "3.5.2"
  }
 },
 "nbformat": 4,
 "nbformat_minor": 2
}
