{
 "cells": [
  {
   "cell_type": "code",
   "execution_count": 1,
   "metadata": {
    "collapsed": true
   },
   "outputs": [],
   "source": [
    "import re\n",
    "from glob import glob\n",
    "from os import path\n",
    "from unicodedata import normalize"
   ]
  },
  {
   "cell_type": "code",
   "execution_count": 2,
   "metadata": {
    "collapsed": true
   },
   "outputs": [],
   "source": [
    "def normalized(text):\n",
    "    try:\n",
    "        return normalize('NFKD', text).encode('ASCII','ignore').decode('ASCII')\n",
    "    except:\n",
    "        pass\n",
    "    return text"
   ]
  },
  {
   "cell_type": "code",
   "execution_count": 3,
   "metadata": {
    "collapsed": true
   },
   "outputs": [],
   "source": [
    "def clean_blank_lines(lines):\n",
    "    cleaned_lines = []\n",
    "    for line in lines:\n",
    "        copy = line\n",
    "        re.sub(\"(\\s)+\", \"\", copy)\n",
    "        if len(copy) > 0:\n",
    "            cleaned_lines.append(line)\n",
    "    return cleaned_lines"
   ]
  },
  {
   "cell_type": "code",
   "execution_count": 4,
   "metadata": {
    "collapsed": true
   },
   "outputs": [],
   "source": [
    "def starts_with_lower(string):\n",
    "    if string[0].lower() == string[0]:\n",
    "        return True"
   ]
  },
  {
   "cell_type": "code",
   "execution_count": 358,
   "metadata": {
    "collapsed": true
   },
   "outputs": [],
   "source": [
    "bad_words = ['processo', 'sa', 'ltda', 'acao', 'vara', 'juiz', 'autos', 'contratuais', \n",
    "             'contratos', 'vistos', 'rua',\n",
    "            'a', 'ante', 'apos', 'ate', 'com', 'contra', 'em', 'entre', \n",
    "            'para', 'per', 'por', 'perante', 'sem', 'sob', 'sobre', 'tras']\n",
    "def check_name(string):\n",
    "    words = re.split(\"\\W\",string)\n",
    "    words = [word for word in words if word != \"\"] \n",
    "    if len(words) < 2 or len(words) > 6: #supondo que o nome completo de uma pessoa deve ter mais de uma palavra\n",
    "        return False\n",
    "    if starts_with_lower(words[0]): #supondo que a primeira letra de todas mesmo do nome TEM que ser maiuscula\n",
    "        return False\n",
    "    last_lower = False\n",
    "    for word in words:\n",
    "        if word.lower() in bad_words:\n",
    "            return False\n",
    "        if len(word) < 2:\n",
    "            return False\n",
    "        if len(word) < 3: #eh razoavel supor que um nome deve ter mais que 2 caracteres\n",
    "            continue\n",
    "        first_letter_is_lower = starts_with_lower(word)\n",
    "        if first_letter_is_lower and last_lower: #primeira letra minuscula, provavelmente nao eh um nome\n",
    "            return False\n",
    "        last_lower = first_letter_is_lower\n",
    "    if string.upper() == string: #supondo que se eh tudo maiusculo e nao caiu nos outros casos\n",
    "        return True\n",
    "    return True"
   ]
  },
  {
   "cell_type": "code",
   "execution_count": 330,
   "metadata": {
    "collapsed": true
   },
   "outputs": [],
   "source": [
    "def check_possible_names(possible_names):\n",
    "    probable = None\n",
    "    for possible_name in possible_names:\n",
    "        if not probable:\n",
    "            if check_name(possible_name):\n",
    "                probable = possible_name\n",
    "                break\n",
    "            sentences = re.split('(?<!\\w\\.\\w.)(?<![A-Z][a-z]\\.)(?<=\\.|\\?)\\s', possible_name)\n",
    "            for sentence in sentences:\n",
    "                if check_name(sentence):\n",
    "                    probable = sentence\n",
    "                    break\n",
    "    return probable"
   ]
  },
  {
   "cell_type": "code",
   "execution_count": 7,
   "metadata": {
    "collapsed": true
   },
   "outputs": [],
   "source": [
    "def find_name(string):\n",
    "    probable = None\n",
    "    normalized_s = normalized(line)\n",
    "    possible_names = re.findall('[a-zA-Z\\s]+', normalized_s)\n",
    "    probable = check_possible_names(possible_names)\n",
    "    if not probable:\n",
    "        possible_names = re.findall('[A-Z\\s]+', normalized_s)\n",
    "        probable = check_possible_names(possible_names)\n",
    "    return probable"
   ]
  },
  {
   "cell_type": "code",
   "execution_count": 8,
   "metadata": {
    "collapsed": true
   },
   "outputs": [],
   "source": [
    "def final_name(string):\n",
    "    return string.strip().upper()"
   ]
  },
  {
   "cell_type": "code",
   "execution_count": 9,
   "metadata": {
    "collapsed": true
   },
   "outputs": [],
   "source": [
    "def get_name_from_signature(line):\n",
    "    name = None\n",
    "    #CASO Este documento foi assinado digitalmente por [nome do juiz]\n",
    "    assinatura_re = re.findall('Este documento foi assinado digitalmente por', line)\n",
    "    if assinatura_re:\n",
    "        rest = line.replace('Este documento foi assinado digitalmente por ', '')\n",
    "        has_name = find_name(rest)\n",
    "        if has_name:\n",
    "            name = final_name(has_name)\n",
    "    return name"
   ]
  },
  {
   "cell_type": "code",
   "execution_count": 321,
   "metadata": {
    "collapsed": true
   },
   "outputs": [],
   "source": [
    "# Pattern 1: [nome do juiz] + \"Juiz de Direito\" na mesma linha\n",
    "def find_judge_string(name, text): \n",
    "    found = re.findall('juiz.*de.*direito.*', text.lower())\n",
    "    if found:\n",
    "        return final_name(name)\n",
    "    found = re.findall('ajuiz', text.lower())\n",
    "    if found:\n",
    "        return final_name(name)"
   ]
  },
  {
   "cell_type": "code",
   "execution_count": 287,
   "metadata": {
    "collapsed": true
   },
   "outputs": [],
   "source": [
    "def get_line_name(i,line, qt_lines):\n",
    "    name = get_name_from_signature(line)\n",
    "    if name:\n",
    "        return name\n",
    "    has_name = find_name(line)\n",
    "    if has_name:\n",
    "        name = find_judge_string(has_name, line)\n",
    "        if name:\n",
    "            return name\n",
    "        if i+1 != qt_lines:\n",
    "            name = find_judge_string(has_name, lines[i+1])\n",
    "        if name:\n",
    "            return name\n",
    "        if i != 0:\n",
    "            name = find_judge_string(has_name, lines[i-1])\n",
    "    return name"
   ]
  },
  {
   "cell_type": "code",
   "execution_count": 366,
   "metadata": {},
   "outputs": [],
   "source": [
    "def get_name(lines):\n",
    "    name = None\n",
    "    qt_lines = len(lines)\n",
    "    for i, line in enumerate(lines):\n",
    "        if name:\n",
    "            break\n",
    "        name = get_line_name(i,line,qt_lines)\n",
    "    return name"
   ]
  },
  {
   "cell_type": "code",
   "execution_count": 298,
   "metadata": {
    "collapsed": true
   },
   "outputs": [],
   "source": [
    "def not_judge(text):\n",
    "    found = re.findall('art.*40.*Lei.*9\\.099/95', text)\n",
    "    if found:\n",
    "        return True\n",
    "    return False"
   ]
  },
  {
   "cell_type": "code",
   "execution_count": 353,
   "metadata": {},
   "outputs": [],
   "source": [
    "def document_iterator(DIR):\n",
    "    for file in glob(path.join(DIR, '*.txt')):\n",
    "        if file[-5:] == '1.txt' :\n",
    "            yield open(file, 'r', encoding='cp1254').read()"
   ]
  },
  {
   "cell_type": "code",
   "execution_count": 354,
   "metadata": {},
   "outputs": [],
   "source": [
    "DIR = \"../data\" "
   ]
  },
  {
   "cell_type": "code",
   "execution_count": 370,
   "metadata": {},
   "outputs": [],
   "source": [
    "names = []\n",
    "for c,file in enumerate(document_iterator(DIR)):\n",
    "    name = None\n",
    "    if not_judge(file):\n",
    "        names.append('LEIGO')\n",
    "        continue\n",
    "    lines = file.splitlines()\n",
    "    lines = clean_blank_lines(lines)\n",
    "    qt_lines = len(lines)\n",
    "    for i, line in enumerate(lines):\n",
    "        if name:\n",
    "            break\n",
    "        name = get_line_name(i,line, qt_lines)\n",
    "    names.append(name)\n",
    "    if c == 100:\n",
    "        break"
   ]
  },
  {
   "cell_type": "code",
   "execution_count": 371,
   "metadata": {},
   "outputs": [
    {
     "name": "stdout",
     "output_type": "stream",
     "text": [
      "69/101\n"
     ]
    }
   ],
   "source": [
    "count = [name for name in names if name is not None]\n",
    "print('%d/%d'%(len(count), len(names)))"
   ]
  },
  {
   "cell_type": "code",
   "execution_count": 361,
   "metadata": {},
   "outputs": [
    {
     "data": {
      "text/plain": [
       "['RAIMUNDO NONATO BORGES BRAGA',\n",
       " 'GIOVANI AUGUSTO SERRA AZUL GUIMARAES',\n",
       " 'CINTHIA SANTOS DA SILVA',\n",
       " 'ALEXANDRE TORRES DE AGUIAR',\n",
       " 'RONNIE PAES SANDRE',\n",
       " None,\n",
       " 'CAROLINE QUADROS DA SILVEIRA PEREIRA',\n",
       " 'KARINA FERRARO AMARANTE INNOCENCIO',\n",
       " 'ANTONIO RICARDO PAVONNE',\n",
       " None,\n",
       " None,\n",
       " None,\n",
       " 'SINVAL RIBEIRO DE SOUZA',\n",
       " 'RODRIGO RAFAEL',\n",
       " 'MONICA TUCUNDUVA SPERA MANFIO',\n",
       " None,\n",
       " 'IVO RIMONDI',\n",
       " None,\n",
       " None,\n",
       " 'LUCAS NOGUEIRA ISRAEL',\n",
       " 'JOSE LAZARO DA SILVA',\n",
       " 'CLODAIR EDENILSON BORIN',\n",
       " 'FRANCISCO DE FARIA  OAB',\n",
       " None,\n",
       " 'ALEX BAIMA SOARES',\n",
       " 'ALEX BAIMA SOARES',\n",
       " None,\n",
       " 'JOSE AILTON FROTA GONCALVES',\n",
       " None,\n",
       " None,\n",
       " 'ANA MARIA RODRIGUES',\n",
       " 'FRANCISCO FERREIRA DA SILVA',\n",
       " None,\n",
       " 'ANA MARIA RODRIGUES',\n",
       " None,\n",
       " 'ADERSON ROCHA DE FREITAS',\n",
       " 'ALEX BAIMA SOARES',\n",
       " None,\n",
       " 'SIRLEY CINTIA LIMA PACHECO',\n",
       " 'JEOVA DE CASTRO SOUSA',\n",
       " None,\n",
       " None,\n",
       " 'MARISA IVONE HOFFMEISTER',\n",
       " 'JOSE CLAUDIO DA LUZ',\n",
       " None,\n",
       " 'CELSO DA ROCHA MARTINS',\n",
       " 'HERACLITO JOSE DE OLIVEIRA',\n",
       " 'ALEXANDRE SCHWARTZ MANICA',\n",
       " 'CARLOS ANTONIO BERNARDO GARRAFIELO',\n",
       " 'MAURICIO BORGES GIL']"
      ]
     },
     "execution_count": 361,
     "metadata": {},
     "output_type": "execute_result"
    }
   ],
   "source": [
    "names"
   ]
  },
  {
   "cell_type": "code",
   "execution_count": null,
   "metadata": {
    "collapsed": true
   },
   "outputs": [],
   "source": []
  }
 ],
 "metadata": {
  "kernelspec": {
   "display_name": "Python 3",
   "language": "python",
   "name": "python3"
  },
  "language_info": {
   "codemirror_mode": {
    "name": "ipython",
    "version": 3
   },
   "file_extension": ".py",
   "mimetype": "text/x-python",
   "name": "python",
   "nbconvert_exporter": "python",
   "pygments_lexer": "ipython3",
   "version": "3.6.1"
  }
 },
 "nbformat": 4,
 "nbformat_minor": 2
}
