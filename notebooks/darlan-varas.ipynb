{
 "cells": [
  {
   "cell_type": "code",
   "execution_count": 61,
   "metadata": {
    "collapsed": false
   },
   "outputs": [],
   "source": [
    "import re\n",
    "from unicodedata import normalize\n"
   ]
  },
  {
   "cell_type": "code",
   "execution_count": 62,
   "metadata": {
    "collapsed": true
   },
   "outputs": [],
   "source": [
    "def compile_multiple(regexes):\n",
    "    programs = []\n",
    "    for regex in regexes:\n",
    "        programs.append(re.compile(regex, re.IGNORECASE))\n",
    "    return programs"
   ]
  },
  {
   "cell_type": "code",
   "execution_count": 63,
   "metadata": {
    "collapsed": true
   },
   "outputs": [],
   "source": [
    "from glob import glob\n",
    "from os import path\n",
    "\n",
    "DIR = '../data'\n",
    "def document_iterator(DIR):\n",
    "    for index, file in enumerate(glob(path.join(DIR, '*.txt'))):\n",
    "        yield open(file, 'r', encoding='cp1252').read()\n",
    "        if index >= 99:\n",
    "            break"
   ]
  },
  {
   "cell_type": "code",
   "execution_count": 64,
   "metadata": {
    "collapsed": false
   },
   "outputs": [],
   "source": [
    "def normalized(text):\n",
    "    try:\n",
    "        return normalize('NFKD', text).encode('ASCII','ignore').decode('ASCII')\n",
    "    except:\n",
    "        pass\n",
    "    return text"
   ]
  },
  {
   "cell_type": "code",
   "execution_count": 65,
   "metadata": {
    "collapsed": true
   },
   "outputs": [],
   "source": [
    "def varas_identify(text):\n",
    "    p = re.compile('(^|\\W)vara\\W', re.IGNORECASE)\n",
    "    lines = []\n",
    "    for line in text.splitlines():\n",
    "        if p.search(line) is not None:\n",
    "            lines.append(normalized(line.strip()))\n",
    "    return lines"
   ]
  },
  {
   "cell_type": "code",
   "execution_count": null,
   "metadata": {
    "collapsed": false
   },
   "outputs": [],
   "source": [
    "\n",
    "    "
   ]
  },
  {
   "cell_type": "code",
   "execution_count": 66,
   "metadata": {
    "collapsed": true
   },
   "outputs": [],
   "source": [
    "def varas_filter(lines):\n",
    "    regexes = ['\\d+[ª,a]?.*vara\\W', '(^|\\W)Vara d[e,o,a]', '(^|\\W)Vara:', '(^|\\W)Vara civel', '(^|\\W)Vara comercial', '(^|\\W)Vara regional', '\\w+eira vara', 'segunda vara', 'quarta vara', 'quinta vara', 'sexta vara', 'setima vara', 'oitava vara', 'decima vara', 'nona vara', '\\w+esima vara', 'vara unica', 'vara judicial']\n",
    "\n",
    "    programs = compile_multiple(regexes)\n",
    "\n",
    "    regex_filtered = []\n",
    "    for text in lines:\n",
    "        for p in programs:\n",
    "            if p.search(text) is not None:\n",
    "                regex_filtered.append(text)\n",
    "                break\n",
    "    return regex_filtered"
   ]
  },
  {
   "cell_type": "code",
   "execution_count": null,
   "metadata": {
    "collapsed": false
   },
   "outputs": [],
   "source": []
  },
  {
   "cell_type": "code",
   "execution_count": null,
   "metadata": {
    "collapsed": false
   },
   "outputs": [],
   "source": []
  },
  {
   "cell_type": "code",
   "execution_count": null,
   "metadata": {
    "collapsed": false
   },
   "outputs": [],
   "source": []
  },
  {
   "cell_type": "code",
   "execution_count": 67,
   "metadata": {
    "collapsed": false
   },
   "outputs": [],
   "source": [
    "def varas_first(lines):\n",
    "    if len(lines) > 0:\n",
    "        return lines[0]\n",
    "    else:\n",
    "        return None"
   ]
  },
  {
   "cell_type": "code",
   "execution_count": 68,
   "metadata": {
    "collapsed": false
   },
   "outputs": [],
   "source": [
    "def varas_from_matching(line):\n",
    "    startregexes = ['primeira vara.*', 'segunda vara.*', 'terceira vara.*', 'quarta vara.*', 'quinta vara.*', 'sexta vara.*', 'setima vara.*', 'oitava vara.*', 'decima vara.*', 'nona vara.*', '\\w+esima vara.*', '\\d+[ª,a]?(.{2}|\\s)vara\\W.*', 'vara unica', 'vara judicial', '(^|\\W)Vara civel .*', '(^|\\W)Vara comercial', '(^|\\W)Vara regional .*', '(^|\\W)Vara .*']\n",
    "\n",
    "    programs = compile_multiple(startregexes)\n",
    "    if line is not None:\n",
    "        for p in programs:\n",
    "            if p.search(line) is not None:\n",
    "                return p.search(line).group(0).strip()\n",
    "    \n",
    "    return line"
   ]
  },
  {
   "cell_type": "code",
   "execution_count": null,
   "metadata": {
    "collapsed": false
   },
   "outputs": [],
   "source": []
  },
  {
   "cell_type": "code",
   "execution_count": 69,
   "metadata": {
    "collapsed": false
   },
   "outputs": [],
   "source": [
    "def varas_final_value(line):\n",
    "    p = re.compile('(\\s\\s+|,|-)')\n",
    "\n",
    "    if line is not None:\n",
    "        return p.split(line)[0].strip()\n",
    "    return line\n",
    "        \n",
    "        "
   ]
  },
  {
   "cell_type": "code",
   "execution_count": 72,
   "metadata": {
    "collapsed": false
   },
   "outputs": [],
   "source": [
    "def get_vara(text):\n",
    "    lines = varas_identify(text)\n",
    "    lines = varas_filter(lines)\n",
    "    line = varas_first(lines)\n",
    "    vara = varas_from_matching(line)\n",
    "    vara = varas_final_value(vara)\n",
    "    return vara"
   ]
  },
  {
   "cell_type": "code",
   "execution_count": 73,
   "metadata": {
    "collapsed": false
   },
   "outputs": [
    {
     "data": {
      "text/plain": [
       "[None,\n",
       " 'VARA DO JUIZADO ESPECIAL CIVEL E CRIMINAL',\n",
       " '2a VARA',\n",
       " None,\n",
       " None,\n",
       " None,\n",
       " None,\n",
       " '4a VARA CIVEL',\n",
       " '4a VARA CIVEL',\n",
       " '3a Vara Civel',\n",
       " None,\n",
       " None,\n",
       " None,\n",
       " None,\n",
       " '15\" VARA CEVEL',\n",
       " 'VARA DO OFICIO DA FAMILIA E SUCESSOES',\n",
       " '2a Vara de Direito Bancario',\n",
       " '1a VARA CIVEL DE FRANCISCO BELTRAO',\n",
       " None,\n",
       " None,\n",
       " 'TERCEIRA VARA CIVEL DE BRASILIA',\n",
       " 'VARA CIVEL DE PLANALTINA',\n",
       " 'VIGESIMA VARA CIVEL DE BRASILIA',\n",
       " None,\n",
       " '1a VARA CIVEL',\n",
       " None,\n",
       " None,\n",
       " '13a Vara Civel',\n",
       " None,\n",
       " None,\n",
       " None,\n",
       " None,\n",
       " None,\n",
       " None,\n",
       " None,\n",
       " None,\n",
       " None,\n",
       " None,\n",
       " None,\n",
       " '29a Vara Civel',\n",
       " None,\n",
       " '22a Vara Civel',\n",
       " '6a Vara Civel',\n",
       " '4a VARA CIVEL',\n",
       " '2a VARA CIVEL DA COMARCA DE VIAMAO',\n",
       " '2a VARA CIVEL',\n",
       " '1a VARA CIVEL',\n",
       " '2a VARA CIVEL DO FORO CENTRAL',\n",
       " '4a VARA CIVEL',\n",
       " '1a VARA CIVEL',\n",
       " None,\n",
       " '3a VARA CIVEL',\n",
       " '5a VARA CIVEL',\n",
       " None,\n",
       " 'TERCEIRA VARA',\n",
       " None,\n",
       " '7a Vara do Juizado Especial desta Comarca',\n",
       " '17a Vara Civel de Competencia Especial',\n",
       " None,\n",
       " None,\n",
       " '3a Vara Civel Residual da Comarca de Campo Grande',\n",
       " None,\n",
       " '1a Vara Civel',\n",
       " None,\n",
       " None,\n",
       " '1a Vara Civel',\n",
       " '19a Vara Civel de Competencia Especial',\n",
       " None,\n",
       " '2a Vara Civel',\n",
       " '1a Vara Civel',\n",
       " None,\n",
       " '1a VARA CIVEL.',\n",
       " '2a VARA CIVEL',\n",
       " '1a VARA CIVEL',\n",
       " '1a VARA CIVEL',\n",
       " '21a Vara Civel Central da Capital',\n",
       " '1a Vara Civel',\n",
       " None,\n",
       " None,\n",
       " 'VARA JUDICIAL',\n",
       " None,\n",
       " None,\n",
       " None,\n",
       " None,\n",
       " '3a VARA CIVEL DA COMARCA DE NOVA',\n",
       " '3a VARA CIVEL DA COMARCA DE NOVA',\n",
       " '1a Vara da Comarca de Ituporanga (autos n.',\n",
       " None,\n",
       " '2a VARA CIVEL',\n",
       " '4a Vara Civel',\n",
       " '2a Vara Civel',\n",
       " None,\n",
       " '3a VARA CIVEL DA COMARCA DE SERTAOZINHO',\n",
       " '1a Vara Civel',\n",
       " '5a Vara Civel',\n",
       " '7a VARA CIVEL',\n",
       " '2a Vara Civel',\n",
       " '3a Vara Civel',\n",
       " '7a Vara Civel',\n",
       " '1a VARA CIVEL DE UNIAO DA VITORIA']"
      ]
     },
     "execution_count": 73,
     "metadata": {},
     "output_type": "execute_result"
    }
   ],
   "source": [
    "varas = []\n",
    "for text in document_iterator(DIR):\n",
    "    varas.append(get_vara(text))\n",
    "\n",
    "varas\n",
    "    \n",
    "    \n",
    "    "
   ]
  }
 ],
 "metadata": {
  "kernelspec": {
   "display_name": "Python 3",
   "language": "python",
   "name": "python3"
  },
  "language_info": {
   "codemirror_mode": {
    "name": "ipython",
    "version": 3
   },
   "file_extension": ".py",
   "mimetype": "text/x-python",
   "name": "python",
   "nbconvert_exporter": "python",
   "pygments_lexer": "ipython3",
   "version": "3.6.0"
  }
 },
 "nbformat": 4,
 "nbformat_minor": 2
}
