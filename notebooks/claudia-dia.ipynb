{
 "cells": [
  {
   "cell_type": "code",
   "execution_count": 43,
   "metadata": {
    "collapsed": true
   },
   "outputs": [],
   "source": [
    "from glob import glob\n",
    "from os import path\n",
    "import re\n",
    "import pandas as pd"
   ]
  },
  {
   "cell_type": "code",
   "execution_count": 44,
   "metadata": {
    "collapsed": false
   },
   "outputs": [],
   "source": [
    "#carrega os arquivos\n",
    "files = glob(path.join('./data/', '*.txt'))"
   ]
  },
  {
   "cell_type": "code",
   "execution_count": 110,
   "metadata": {
    "collapsed": false,
    "scrolled": true
   },
   "outputs": [
    {
     "ename": "KeyboardInterrupt",
     "evalue": "",
     "output_type": "error",
     "traceback": [
      "\u001b[0;31m---------------------------------------------------------------------------\u001b[0m",
      "\u001b[0;31mKeyboardInterrupt\u001b[0m                         Traceback (most recent call last)",
      "\u001b[0;32m<ipython-input-110-5f14fbabb8fd>\u001b[0m in \u001b[0;36m<module>\u001b[0;34m()\u001b[0m\n\u001b[1;32m     19\u001b[0m         \u001b[0mconj\u001b[0m \u001b[1;33m=\u001b[0m\u001b[1;33m[\u001b[0m\u001b[1;33m]\u001b[0m\u001b[1;33m\u001b[0m\u001b[0m\n\u001b[1;32m     20\u001b[0m         \u001b[1;31m#procura de linha a linha a palavra mes\u001b[0m\u001b[1;33m\u001b[0m\u001b[1;33m\u001b[0m\u001b[0m\n\u001b[0;32m---> 21\u001b[0;31m         \u001b[1;32mfor\u001b[0m \u001b[0mline\u001b[0m \u001b[1;32min\u001b[0m \u001b[0msearchfile\u001b[0m\u001b[1;33m:\u001b[0m\u001b[1;33m\u001b[0m\u001b[0m\n\u001b[0m\u001b[1;32m     22\u001b[0m             \u001b[0mlinha\u001b[0m \u001b[1;33m=\u001b[0m \u001b[0mlinha\u001b[0m \u001b[1;33m+\u001b[0m \u001b[1;36m1\u001b[0m\u001b[1;33m\u001b[0m\u001b[0m\n\u001b[1;32m     23\u001b[0m             \u001b[1;32mfor\u001b[0m \u001b[0mmes\u001b[0m \u001b[1;32min\u001b[0m \u001b[0mdemes\u001b[0m\u001b[1;33m:\u001b[0m\u001b[1;33m\u001b[0m\u001b[0m\n",
      "\u001b[0;32mC:\\ProgramData\\Anaconda3\\lib\\encodings\\cp1252.py\u001b[0m in \u001b[0;36mdecode\u001b[0;34m(self, input, final)\u001b[0m\n\u001b[1;32m     20\u001b[0m \u001b[1;33m\u001b[0m\u001b[0m\n\u001b[1;32m     21\u001b[0m \u001b[1;32mclass\u001b[0m \u001b[0mIncrementalDecoder\u001b[0m\u001b[1;33m(\u001b[0m\u001b[0mcodecs\u001b[0m\u001b[1;33m.\u001b[0m\u001b[0mIncrementalDecoder\u001b[0m\u001b[1;33m)\u001b[0m\u001b[1;33m:\u001b[0m\u001b[1;33m\u001b[0m\u001b[0m\n\u001b[0;32m---> 22\u001b[0;31m     \u001b[1;32mdef\u001b[0m \u001b[0mdecode\u001b[0m\u001b[1;33m(\u001b[0m\u001b[0mself\u001b[0m\u001b[1;33m,\u001b[0m \u001b[0minput\u001b[0m\u001b[1;33m,\u001b[0m \u001b[0mfinal\u001b[0m\u001b[1;33m=\u001b[0m\u001b[1;32mFalse\u001b[0m\u001b[1;33m)\u001b[0m\u001b[1;33m:\u001b[0m\u001b[1;33m\u001b[0m\u001b[0m\n\u001b[0m\u001b[1;32m     23\u001b[0m         \u001b[1;32mreturn\u001b[0m \u001b[0mcodecs\u001b[0m\u001b[1;33m.\u001b[0m\u001b[0mcharmap_decode\u001b[0m\u001b[1;33m(\u001b[0m\u001b[0minput\u001b[0m\u001b[1;33m,\u001b[0m\u001b[0mself\u001b[0m\u001b[1;33m.\u001b[0m\u001b[0merrors\u001b[0m\u001b[1;33m,\u001b[0m\u001b[0mdecoding_table\u001b[0m\u001b[1;33m)\u001b[0m\u001b[1;33m[\u001b[0m\u001b[1;36m0\u001b[0m\u001b[1;33m]\u001b[0m\u001b[1;33m\u001b[0m\u001b[0m\n\u001b[1;32m     24\u001b[0m \u001b[1;33m\u001b[0m\u001b[0m\n",
      "\u001b[0;31mKeyboardInterrupt\u001b[0m: "
     ]
    }
   ],
   "source": [
    "count = 0\n",
    "text_file = open(\"saida.txt\", \"w\")\n",
    "\n",
    "#procura meses e os strings ao lado da esquerda e da direita desse mes\n",
    "demes = ['de Janeiro', 'de Fevereiro',  'de Março', 'de Abril', 'de Maio', 'de Junho', 'de Julho', 'de Agosto', 'de Setembro', 'de Outubro',\n",
    "        'de Novembro', 'de Dezembro','de janeiro', 'de fevereiro',  'de março', 'de abril', 'de maio', 'de junho', 'de julho', 'de agosto',\n",
    "        'de setembro', 'de outubro', 'de novembro', 'de dezembro']\n",
    "\n",
    "for file in files[:77385]:\n",
    "    with open(file) as searchfile:\n",
    "        dia = 0\n",
    "        ano = 0\n",
    "        achou = 0\n",
    "        linha = 0\n",
    "        linhatotal = 0\n",
    "        linha_achou = 0\n",
    "        ok = 0\n",
    "        dictio = {}\n",
    "        conj =[]\n",
    "        #procura de linha a linha a palavra mes\n",
    "        for line in searchfile:\n",
    "            linha = linha + 1\n",
    "            for mes in demes:\n",
    "                left,sep,right = line.partition(mes)\n",
    "                if sep: # True iff 'something' in line\n",
    "                    achou = 1\n",
    "                    ano = re.findall(r'\\d+', right) #deixa apenas os numeros no string da direita\n",
    "                    dia = re.findall(r'\\d+', left)\n",
    "                    oi = sep # oi eh mes\n",
    "                    linha_achou = linha #encontra ultima linha em que achou o mes\n",
    "        linha_total = linha #variavel para quantas linhas tem no total no doc\n",
    "        \n",
    "        #normalmente a data real esta no final do documento. Entao, se a linha em que \n",
    "        #achou mes esta entre as ultimas 15, provavelmente eh a data do arquivo\n",
    "        #\n",
    "        #isso evita que pegue uma data qualquer no meio do texto\n",
    "        if achou == 1 and linha_achou > linha_total - 15: \n",
    "            #deixa o string mais a esquerda da lista que normalmente eh o dia\n",
    "            if len(dia) > 0:\n",
    "                dia = dia[-1]\n",
    "            if len(ano) > 0:\n",
    "                ano = ano[0]\n",
    "            if (oi == 'de Janeiro' or oi == 'de janeiro'):\n",
    "                oi = 1   \n",
    "            elif (oi == 'de Fevereiro' or oi == 'de fevereiro'):\n",
    "                oi = 2\n",
    "            elif (oi == 'de Março' or oi == 'de março'):\n",
    "                oi = 3\n",
    "            elif (oi == 'de Abril' or oi == 'de abril'):\n",
    "                oi = 4\n",
    "            elif (oi == 'de Maio' or oi == 'de maio'):\n",
    "                oi = 5\n",
    "            elif (oi == 'de Junho' or oi == 'de junho'):\n",
    "                oi = 6\n",
    "            elif (oi == 'de Julho' or oi == 'de julho'):\n",
    "                oi = 7\n",
    "            elif (oi == 'de Agosto' or oi =='de agosto'):\n",
    "                oi = 8\n",
    "            elif (oi == 'de Setembro' or oi == 'de setembro'):\n",
    "                oi = 9\n",
    "            elif (oi == 'de Outubro' or oi == 'de outubro'):\n",
    "                oi = 10\n",
    "            elif (oi == 'de Novembro' or oi =='de novembro'):\n",
    "                oi = 11\n",
    "            elif (oi == 'de Dezembro' or oi == 'de dezembro'):\n",
    "                oi = 12\n",
    "                \n",
    "            #se os dias e anos foram razoaveis, coloca no .txt\n",
    "     \n",
    "            if ano and dia and int(ano) > 2007 and int(ano) < 2018 and int(dia) > 0 and int(dia) < 32:\n",
    "                text_file.write(\"Arquivo: %s \" % file)\n",
    "                text_file.write(\"%s-\" % ano)\n",
    "                text_file.write(\"%s-\" % oi)\n",
    "                text_file.write(\"%s\\n \" % dia)\n",
    "                #count = count + 1  #pra teste\n"
   ]
  },
  {
   "cell_type": "code",
   "execution_count": 107,
   "metadata": {
    "collapsed": false
   },
   "outputs": [
    {
     "data": {
      "text/plain": [
       "48878"
      ]
     },
     "execution_count": 107,
     "metadata": {},
     "output_type": "execute_result"
    }
   ],
   "source": [
    "count"
   ]
  },
  {
   "cell_type": "code",
   "execution_count": 111,
   "metadata": {
    "collapsed": false
   },
   "outputs": [
    {
     "ename": "KeyboardInterrupt",
     "evalue": "",
     "output_type": "error",
     "traceback": [
      "\u001b[0;31m---------------------------------------------------------------------------\u001b[0m",
      "\u001b[0;31mKeyboardInterrupt\u001b[0m                         Traceback (most recent call last)",
      "\u001b[0;32m<ipython-input-111-6816d496562a>\u001b[0m in \u001b[0;36m<module>\u001b[0;34m()\u001b[0m\n\u001b[1;32m     16\u001b[0m         \u001b[0mconj\u001b[0m \u001b[1;33m=\u001b[0m\u001b[1;33m[\u001b[0m\u001b[1;33m]\u001b[0m\u001b[1;33m\u001b[0m\u001b[0m\n\u001b[1;32m     17\u001b[0m         \u001b[1;31m#print(file)\u001b[0m\u001b[1;33m\u001b[0m\u001b[1;33m\u001b[0m\u001b[0m\n\u001b[0;32m---> 18\u001b[0;31m         \u001b[1;32mfor\u001b[0m \u001b[0mline\u001b[0m \u001b[1;32min\u001b[0m \u001b[0msearchfile\u001b[0m\u001b[1;33m:\u001b[0m\u001b[1;33m\u001b[0m\u001b[0m\n\u001b[0m\u001b[1;32m     19\u001b[0m             \u001b[0mlinha\u001b[0m \u001b[1;33m=\u001b[0m \u001b[0mlinha\u001b[0m \u001b[1;33m+\u001b[0m \u001b[1;36m1\u001b[0m\u001b[1;33m\u001b[0m\u001b[0m\n\u001b[1;32m     20\u001b[0m             \u001b[1;31m#print(\"1\")\u001b[0m\u001b[1;33m\u001b[0m\u001b[1;33m\u001b[0m\u001b[0m\n",
      "\u001b[0;32mC:\\ProgramData\\Anaconda3\\lib\\encodings\\cp1252.py\u001b[0m in \u001b[0;36mdecode\u001b[0;34m(self, input, final)\u001b[0m\n\u001b[1;32m     20\u001b[0m \u001b[1;33m\u001b[0m\u001b[0m\n\u001b[1;32m     21\u001b[0m \u001b[1;32mclass\u001b[0m \u001b[0mIncrementalDecoder\u001b[0m\u001b[1;33m(\u001b[0m\u001b[0mcodecs\u001b[0m\u001b[1;33m.\u001b[0m\u001b[0mIncrementalDecoder\u001b[0m\u001b[1;33m)\u001b[0m\u001b[1;33m:\u001b[0m\u001b[1;33m\u001b[0m\u001b[0m\n\u001b[0;32m---> 22\u001b[0;31m     \u001b[1;32mdef\u001b[0m \u001b[0mdecode\u001b[0m\u001b[1;33m(\u001b[0m\u001b[0mself\u001b[0m\u001b[1;33m,\u001b[0m \u001b[0minput\u001b[0m\u001b[1;33m,\u001b[0m \u001b[0mfinal\u001b[0m\u001b[1;33m=\u001b[0m\u001b[1;32mFalse\u001b[0m\u001b[1;33m)\u001b[0m\u001b[1;33m:\u001b[0m\u001b[1;33m\u001b[0m\u001b[0m\n\u001b[0m\u001b[1;32m     23\u001b[0m         \u001b[1;32mreturn\u001b[0m \u001b[0mcodecs\u001b[0m\u001b[1;33m.\u001b[0m\u001b[0mcharmap_decode\u001b[0m\u001b[1;33m(\u001b[0m\u001b[0minput\u001b[0m\u001b[1;33m,\u001b[0m\u001b[0mself\u001b[0m\u001b[1;33m.\u001b[0m\u001b[0merrors\u001b[0m\u001b[1;33m,\u001b[0m\u001b[0mdecoding_table\u001b[0m\u001b[1;33m)\u001b[0m\u001b[1;33m[\u001b[0m\u001b[1;36m0\u001b[0m\u001b[1;33m]\u001b[0m\u001b[1;33m\u001b[0m\u001b[0m\n\u001b[1;32m     24\u001b[0m \u001b[1;33m\u001b[0m\u001b[0m\n",
      "\u001b[0;31mKeyboardInterrupt\u001b[0m: "
     ]
    }
   ],
   "source": [
    "text_file = open(\"dummy.txt\", \"w\")\n",
    "\n",
    "#analogo ao acima, mas dessa vez com os meses entre parentes. Serve pra quando nao acha com um \n",
    "#string de mes\n",
    "demes = ['/01/', '/02',  '/03/', '/04/','/05/','/06/', '/07/', '/08/', '/09/', '/10/', '/11/', '/12/']\n",
    "count = 0\n",
    "for file in files[:77380]:\n",
    "    with open(file) as searchfile:\n",
    "        dia = 0\n",
    "        ano = 0\n",
    "        achou = 0\n",
    "        linha = 0\n",
    "        linhatotal = 0\n",
    "        linha_achou = 0\n",
    "        dictio = {}\n",
    "        conj =[]\n",
    "        #print(file)\n",
    "        for line in searchfile:\n",
    "            linha = linha + 1\n",
    "            #print(\"1\")\n",
    "            for mes in demes:\n",
    "                #print(\"2\")\n",
    "                left,sep,right = line.partition(mes)\n",
    "                if sep: # True iff 'something' in line\n",
    "                    achou = 1\n",
    "                    ano = re.findall(r'\\d+', right)\n",
    "                    dia = re.findall(r'\\d+', left)\n",
    "                    oi = sep\n",
    "                    linha_achou = linha\n",
    "        linha_total = linha   \n",
    "\n",
    "\n",
    "        if achou == 1 and linha_achou > linha_total - 10:\n",
    "            #print(\"ACABOU\")\n",
    "            #print(dia)\n",
    "            #print(oi)\n",
    "            #print(ano)\n",
    "            if len(dia) > 0:\n",
    "                dia = dia[-1]\n",
    "            if len(ano) > 0:\n",
    "                ano = ano[0]\n",
    "            #print(dia)\n",
    "            #print(oi)\n",
    "            #print(ano)\n",
    "#             print(dia)\n",
    "#             print(oi)\n",
    "#           \n",
    "            if ano and dia and int(ano) > 2007 and int(ano) < 2018 and int(dia) > 0 and int(dia) < 32:\n",
    "                text_file.write(\"Arquivo: %s \" % file)\n",
    "                text_file.write(\"%s-\" % ano)\n",
    "                text_file.write(\"%s-\" % oi)\n",
    "                text_file.write(\"%s\\n \" % dia)\n",
    "                #print(\"OK\")\n",
    "                count = count + 1    "
   ]
  },
  {
   "cell_type": "code",
   "execution_count": 103,
   "metadata": {
    "collapsed": false
   },
   "outputs": [
    {
     "data": {
      "text/plain": [
       "2687"
      ]
     },
     "execution_count": 103,
     "metadata": {},
     "output_type": "execute_result"
    }
   ],
   "source": [
    "count"
   ]
  },
  {
   "cell_type": "code",
   "execution_count": null,
   "metadata": {
    "collapsed": true
   },
   "outputs": [],
   "source": []
  }
 ],
 "metadata": {
  "kernelspec": {
   "display_name": "Python 3",
   "language": "python",
   "name": "python3"
  },
  "language_info": {
   "codemirror_mode": {
    "name": "ipython",
    "version": 3
   },
   "file_extension": ".py",
   "mimetype": "text/x-python",
   "name": "python",
   "nbconvert_exporter": "python",
   "pygments_lexer": "ipython3",
   "version": "3.6.0"
  }
 },
 "nbformat": 4,
 "nbformat_minor": 2
}
