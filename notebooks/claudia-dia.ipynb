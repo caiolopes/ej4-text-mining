{
 "cells": [
  {
   "cell_type": "code",
   "execution_count": 8,
   "metadata": {
    "collapsed": true
   },
   "outputs": [],
   "source": [
    "from glob import glob\n",
    "from os import path\n",
    "import re\n",
    "import pandas as pd"
   ]
  },
  {
   "cell_type": "code",
   "execution_count": 9,
   "metadata": {
    "collapsed": false
   },
   "outputs": [],
   "source": [
    "files = glob(path.join('./data/', '*.txt'))\n"
   ]
  },
  {
   "cell_type": "code",
   "execution_count": 10,
   "metadata": {
    "collapsed": true
   },
   "outputs": [],
   "source": [
    "def magic(numbers):\n",
    "    return int(''.join([ \"%d\"%x for x in numbers]))"
   ]
  },
  {
   "cell_type": "code",
   "execution_count": null,
   "metadata": {
    "collapsed": true
   },
   "outputs": [],
   "source": [
    "df = pd.DataFrame()"
   ]
  },
  {
   "cell_type": "code",
   "execution_count": 28,
   "metadata": {
    "collapsed": false,
    "scrolled": true
   },
   "outputs": [],
   "source": [
    "WANTED = 10 #or however many characters you want after 'something'\n",
    "count = 0\n",
    "text_file = open(\"saida.txt\", \"w\")\n",
    "\n",
    "demes = ['de Janeiro', 'de Fevereiro',  'de Março', 'de Abril', 'de Maio', 'de Junho', 'de Julho', 'de Agosto', 'de Setembro', 'de Outubro',\n",
    "        'de Novembro', 'de Dezembro','de janeiro', 'de fevereiro',  'de março', 'de abril', 'de maio', 'de junho', 'de julho', 'de agosto',\n",
    "        'de setembro', 'de outubro', 'de novembro', 'de dezembro']\n",
    "\n",
    "for file in files[:77385]:\n",
    "    \n",
    "    with open(file) as searchfile:\n",
    "        dia = 0\n",
    "        ano = 0\n",
    "        achou = 0\n",
    "        dictio = {}\n",
    "        conj =[]\n",
    "        for line in searchfile:\n",
    "            for mes in demes:\n",
    "                left,sep,right = line.partition(mes)\n",
    "                if sep: # True iff 'something' in line\n",
    "#                     print(\"ACHOU ALGO LEGAL\")\n",
    "                    achou = 1\n",
    "#                     print(achou)\n",
    "#                     print(file)\n",
    "                    ano = re.findall(r'\\d+', right)\n",
    "                    dia = re.findall(r'\\d+', left)\n",
    "#                     print(dia)\n",
    "#                     print(sep)\n",
    "                    oi = sep\n",
    "#                     print(ano)\n",
    "            \n",
    "        if achou == 1:\n",
    "#             print(\"ACABOU\")\n",
    "#             print(dia)\n",
    "#             print(oi)\n",
    "#             print(ano)\n",
    "            if len(dia) > 0:\n",
    "                dia = dia[-1]\n",
    "            if len(ano) > 0:\n",
    "                ano = ano[0]\n",
    "#             print(dia)\n",
    "#             print(oi)\n",
    "#             print(ano) \n",
    "            if (oi == 'de Janeiro' or oi == 'de janeiro'):\n",
    "                oi = 1   \n",
    "            elif (oi == 'de Fevereiro' or oi == 'de fevereiro'):\n",
    "                oi = 2\n",
    "            elif (oi == 'de Março' or oi == 'de março'):\n",
    "                oi = 3\n",
    "            elif (oi == 'de Abril' or oi == 'de abril'):\n",
    "                oi = 4\n",
    "            elif (oi == 'de Maio' or oi == 'de maio'):\n",
    "                oi = 5\n",
    "            elif (oi == 'de Junho' or oi == 'de junho'):\n",
    "                oi = 6\n",
    "            elif (oi == 'de Julho' or oi == 'de julho'):\n",
    "                oi = 7\n",
    "            elif (oi == 'de Agosto' or oi =='de agosto'):\n",
    "                oi = 8\n",
    "            elif (oi == 'de Setembro' or oi == 'de setembro'):\n",
    "                oi = 9\n",
    "            elif (oi == 'de Outubro' or oi == 'de outubro'):\n",
    "                oi = 10\n",
    "            elif (oi == 'de Novembro' or oi =='de novembro'):\n",
    "                oi = 11\n",
    "            elif (oi == 'de Dezembro' or oi == 'de dezembro'):\n",
    "                oi = 12\n",
    "            if ano and dia and int(ano) > 1900 and int(ano) < 2019 and int(dia) > 0 and int(dia) < 32:\n",
    "                text_file.write(\"Arquivo: %s \" % file)\n",
    "                text_file.write(\"%s/\" % dia)\n",
    "                text_file.write(\"%s/\" % oi)\n",
    "                text_file.write(\"%s\\n\" % ano)\n",
    "                count = count + 1    \n"
   ]
  },
  {
   "cell_type": "code",
   "execution_count": 24,
   "metadata": {
    "collapsed": false
   },
   "outputs": [
    {
     "data": {
      "text/plain": [
       "676"
      ]
     },
     "execution_count": 24,
     "metadata": {},
     "output_type": "execute_result"
    }
   ],
   "source": [
    "count"
   ]
  },
  {
   "cell_type": "code",
   "execution_count": null,
   "metadata": {
    "collapsed": true
   },
   "outputs": [],
   "source": []
  }
 ],
 "metadata": {
  "kernelspec": {
   "display_name": "Python 3",
   "language": "python",
   "name": "python3"
  },
  "language_info": {
   "codemirror_mode": {
    "name": "ipython",
    "version": 3
   },
   "file_extension": ".py",
   "mimetype": "text/x-python",
   "name": "python",
   "nbconvert_exporter": "python",
   "pygments_lexer": "ipython3",
   "version": "3.6.0"
  }
 },
 "nbformat": 4,
 "nbformat_minor": 2
}
