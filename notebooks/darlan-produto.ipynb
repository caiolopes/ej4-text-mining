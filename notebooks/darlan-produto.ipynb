{
 "cells": [
  {
   "cell_type": "code",
   "execution_count": 2,
   "metadata": {
    "collapsed": true
   },
   "outputs": [],
   "source": [
    "import re\n",
    "from unicodedata import normalize"
   ]
  },
  {
   "cell_type": "code",
   "execution_count": 80,
   "metadata": {
    "collapsed": true
   },
   "outputs": [],
   "source": [
    "from glob import glob\n",
    "from os import path\n",
    "\n",
    "DIR = '../data'\n",
    "def document_iterator(DIR):\n",
    "    for index, file in enumerate(glob(path.join(DIR, '*.txt'))):\n",
    "        yield open(file, 'r', encoding='cp1252').read()\n",
    "        if index >= 99:\n",
    "            break"
   ]
  },
  {
   "cell_type": "code",
   "execution_count": 4,
   "metadata": {
    "collapsed": true
   },
   "outputs": [],
   "source": []
  },
  {
   "cell_type": "code",
   "execution_count": 5,
   "metadata": {
    "collapsed": true
   },
   "outputs": [],
   "source": [
    "def normalized(text):\n",
    "    try:\n",
    "        return normalize('NFKD', text).encode('ASCII','ignore').decode('ASCII')\n",
    "    except:\n",
    "        pass\n",
    "    return text"
   ]
  },
  {
   "cell_type": "code",
   "execution_count": 6,
   "metadata": {
    "collapsed": true
   },
   "outputs": [],
   "source": []
  },
  {
   "cell_type": "code",
   "execution_count": 96,
   "metadata": {
    "collapsed": true
   },
   "outputs": [],
   "source": [
    "def tipo_financiamento(text):\n",
    "    tipo = {\n",
    "        ' consignado': re.compile('(^|\\W)consignado.*', re.IGNORECASE),\n",
    "        ' de veiculo': re.compile('((^|\\W)veiculo.*|(^|\\W)carro.*|(^|\\W)automove.*|(^|\\W)onibus.*|(^|\\W)moto\\W.*|(^|\\W)motocicleta.*)', re.IGNORECASE),\n",
    "    }\n",
    "    \n",
    "    for key in tipo:\n",
    "        if tipo[key].search(text) is not None:\n",
    "            return key\n",
    "    \n",
    "    return ''\n",
    "    "
   ]
  },
  {
   "cell_type": "code",
   "execution_count": 93,
   "metadata": {
    "collapsed": false
   },
   "outputs": [],
   "source": [
    "def get_produto(text):\n",
    "    text = normalized(text)\n",
    "    matches = []\n",
    "    regex_financiamento = '((^|\\W)d?[o,e,a]((^|\\W)financia\\w*.*|(^|\\W)emprest.*)|contrato de((^|\\W)financia\\w*.*|(^|\\W)emprest.*)|((^|\\W)financia\\w+|(^|\\W)emprestimo)\\Wcontratado)'\n",
    "    regex_cartao = '((^|\\W)credito.*(^|\\W)cartao.*|(^|\\W)cartao.*(^|\\W)credito.*)'\n",
    "    financiamento = re.compile(regex_financiamento, re.IGNORECASE)\n",
    "    cartao = re.compile(regex_cartao, re.IGNORECASE)\n",
    "    \n",
    "    if financiamento.search(text) is not None:\n",
    "        matches = ['financiamento'+tipo_financiamento(text)]\n",
    "    if cartao.search(text) is not None:\n",
    "        matches.append('cartao de credito')\n",
    "            \n",
    "    return '/'.join(matches)"
   ]
  },
  {
   "cell_type": "code",
   "execution_count": null,
   "metadata": {
    "collapsed": false
   },
   "outputs": [],
   "source": []
  },
  {
   "cell_type": "code",
   "execution_count": 97,
   "metadata": {
    "collapsed": false
   },
   "outputs": [
    {
     "data": {
      "text/plain": [
       "55"
      ]
     },
     "execution_count": 97,
     "metadata": {},
     "output_type": "execute_result"
    }
   ],
   "source": [
    "produtos = []\n",
    "count = 0\n",
    "for index, text in enumerate(document_iterator(DIR)):\n",
    "    res = get_produto(text)\n",
    "    if len(res) > 0:\n",
    "        count += 1\n",
    "    produtos.append(res)\n",
    "\n",
    "count"
   ]
  },
  {
   "cell_type": "code",
   "execution_count": 98,
   "metadata": {
    "collapsed": false
   },
   "outputs": [
    {
     "name": "stdout",
     "output_type": "stream",
     "text": [
      "1 \n",
      "2 financiamento\n",
      "3 financiamento de veiculo\n",
      "4 \n",
      "5 financiamento de veiculo\n",
      "6 financiamento de veiculo\n",
      "7 financiamento de veiculo\n",
      "8 \n",
      "9 financiamento de veiculo\n",
      "10 financiamento de veiculo\n",
      "11 \n",
      "12 \n",
      "13 financiamento de veiculo\n",
      "14 \n",
      "15 financiamento de veiculo\n",
      "16 \n",
      "17 \n",
      "18 financiamento de veiculo\n",
      "19 \n",
      "20 \n",
      "21 financiamento de veiculo\n",
      "22 financiamento de veiculo\n",
      "23 financiamento consignado\n",
      "24 financiamento de veiculo\n",
      "25 \n",
      "26 \n",
      "27 \n",
      "28 financiamento de veiculo\n",
      "29 \n",
      "30 \n",
      "31 \n",
      "32 \n",
      "33 \n",
      "34 \n",
      "35 \n",
      "36 \n",
      "37 \n",
      "38 \n",
      "39 \n",
      "40 financiamento de veiculo\n",
      "41 \n",
      "42 financiamento\n",
      "43 financiamento de veiculo\n",
      "44 financiamento consignado\n",
      "45 financiamento de veiculo\n",
      "46 financiamento\n",
      "47 \n",
      "48 financiamento de veiculo\n",
      "49 financiamento\n",
      "50 financiamento de veiculo\n",
      "51 financiamento de veiculo\n",
      "52 financiamento de veiculo\n",
      "53 financiamento de veiculo\n",
      "54 financiamento de veiculo\n",
      "55 financiamento de veiculo\n",
      "56 financiamento de veiculo\n",
      "57 financiamento de veiculo/cartao de credito\n",
      "58 financiamento\n",
      "59 financiamento de veiculo\n",
      "60 \n",
      "61 financiamento de veiculo\n",
      "62 \n",
      "63 financiamento de veiculo\n",
      "64 \n",
      "65 \n",
      "66 financiamento consignado\n",
      "67 \n",
      "68 \n",
      "69 financiamento consignado/cartao de credito\n",
      "70 financiamento consignado\n",
      "71 \n",
      "72 financiamento de veiculo\n",
      "73 financiamento/cartao de credito\n",
      "74 financiamento de veiculo\n",
      "75 financiamento de veiculo\n",
      "76 \n",
      "77 financiamento de veiculo\n",
      "78 \n",
      "79 \n",
      "80 \n",
      "81 financiamento de veiculo\n",
      "82 financiamento de veiculo\n",
      "83 \n",
      "84 \n",
      "85 financiamento de veiculo\n",
      "86 financiamento de veiculo\n",
      "87 \n",
      "88 \n",
      "89 \n",
      "90 financiamento\n",
      "91 financiamento de veiculo\n",
      "92 \n",
      "93 \n",
      "94 financiamento consignado\n",
      "95 \n",
      "96 financiamento consignado\n",
      "97 financiamento de veiculo\n",
      "98 financiamento consignado\n",
      "99 financiamento de veiculo\n",
      "100 financiamento de veiculo\n"
     ]
    }
   ],
   "source": [
    "for index, produto in enumerate(produtos):\n",
    "    print(index+1, produto)"
   ]
  }
 ],
 "metadata": {
  "kernelspec": {
   "display_name": "Python 3",
   "language": "python",
   "name": "python3"
  },
  "language_info": {
   "codemirror_mode": {
    "name": "ipython",
    "version": 3
   },
   "file_extension": ".py",
   "mimetype": "text/x-python",
   "name": "python",
   "nbconvert_exporter": "python",
   "pygments_lexer": "ipython3",
   "version": "3.6.0"
  }
 },
 "nbformat": 4,
 "nbformat_minor": 2
}
