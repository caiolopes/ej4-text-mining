{
 "cells": [
  {
   "cell_type": "code",
   "execution_count": 1,
   "metadata": {
    "collapsed": true
   },
   "outputs": [],
   "source": [
    "%matplotlib inline\n",
    "import pandas as pd\n",
    "from glob import glob\n",
    "from os import path\n",
    "import re"
   ]
  },
  {
   "cell_type": "code",
   "execution_count": 2,
   "metadata": {
    "collapsed": true
   },
   "outputs": [],
   "source": [
    "def document_iterator(DIR):\n",
    "    for file in glob(path.join(DIR, '*.txt')):\n",
    "        yield open(file, 'r', encoding='cp1254').read()"
   ]
  },
  {
   "cell_type": "code",
   "execution_count": 3,
   "metadata": {
    "collapsed": true
   },
   "outputs": [],
   "source": [
    "def get_target(text):\n",
    "    match = re.search(r'.{20}parcialmente.{20}', text, re.DOTALL | re.IGNORECASE)\n",
    "    if match:\n",
    "        return match.group()"
   ]
  },
  {
   "cell_type": "code",
   "execution_count": 4,
   "metadata": {
    "collapsed": true
   },
   "outputs": [],
   "source": [
    "def get_target(text):\n",
    "    procedente_positions = [m.start() for m in re.finditer(' procedente', text, re.IGNORECASE)]\n",
    "    improcedente_positions = [m.start() for m in re.finditer('improcedente', text, re.IGNORECASE)]\n",
    "    if len(improcedente_positions) > 0 and len(procedente_positions) == 0: \n",
    "        return 1\n",
    "    \n",
    "    elif len(improcedente_positions) == 0 and len(procedente_positions) > 0: \n",
    "        return 0\n",
    "    \n",
    "    elif len(improcedente_positions) > 0 and len(procedente_positions) > 0:\n",
    "        return int(improcedente_positions[-1] > procedente_positions[-1])\n",
    "    else:\n",
    "        return 0"
   ]
  },
  {
   "cell_type": "code",
   "execution_count": 5,
   "metadata": {
    "collapsed": true
   },
   "outputs": [],
   "source": [
    "files = glob(path.join('../data/', '*.txt'))"
   ]
  },
  {
   "cell_type": "code",
   "execution_count": 6,
   "metadata": {
    "collapsed": true
   },
   "outputs": [],
   "source": [
    "def open_file(file):\n",
    "    return open(file, 'r', encoding='cp1254').read()"
   ]
  },
  {
   "cell_type": "code",
   "execution_count": 29,
   "metadata": {
    "collapsed": false
   },
   "outputs": [
    {
     "ename": "KeyboardInterrupt",
     "evalue": "",
     "output_type": "error",
     "traceback": [
      "\u001b[1;31m---------------------------------------------------------------------------\u001b[0m",
      "\u001b[1;31mKeyboardInterrupt\u001b[0m                         Traceback (most recent call last)",
      "\u001b[1;32m<ipython-input-29-a9fd95f63fa1>\u001b[0m in \u001b[0;36m<module>\u001b[1;34m()\u001b[0m\n\u001b[1;32m----> 1\u001b[1;33m \u001b[0mtargets\u001b[0m \u001b[1;33m=\u001b[0m \u001b[1;33m[\u001b[0m\u001b[0mget_target\u001b[0m\u001b[1;33m(\u001b[0m\u001b[0mopen_file\u001b[0m\u001b[1;33m(\u001b[0m\u001b[0mf\u001b[0m\u001b[1;33m)\u001b[0m\u001b[1;33m)\u001b[0m \u001b[1;32mfor\u001b[0m \u001b[0mf\u001b[0m \u001b[1;32min\u001b[0m \u001b[0mfiles\u001b[0m\u001b[1;33m[\u001b[0m\u001b[1;33m:\u001b[0m\u001b[1;36m20000\u001b[0m\u001b[1;33m]\u001b[0m\u001b[1;33m]\u001b[0m\u001b[1;33m\u001b[0m\u001b[0m\n\u001b[0m",
      "\u001b[1;32m<ipython-input-29-a9fd95f63fa1>\u001b[0m in \u001b[0;36m<listcomp>\u001b[1;34m(.0)\u001b[0m\n\u001b[1;32m----> 1\u001b[1;33m \u001b[0mtargets\u001b[0m \u001b[1;33m=\u001b[0m \u001b[1;33m[\u001b[0m\u001b[0mget_target\u001b[0m\u001b[1;33m(\u001b[0m\u001b[0mopen_file\u001b[0m\u001b[1;33m(\u001b[0m\u001b[0mf\u001b[0m\u001b[1;33m)\u001b[0m\u001b[1;33m)\u001b[0m \u001b[1;32mfor\u001b[0m \u001b[0mf\u001b[0m \u001b[1;32min\u001b[0m \u001b[0mfiles\u001b[0m\u001b[1;33m[\u001b[0m\u001b[1;33m:\u001b[0m\u001b[1;36m20000\u001b[0m\u001b[1;33m]\u001b[0m\u001b[1;33m]\u001b[0m\u001b[1;33m\u001b[0m\u001b[0m\n\u001b[0m",
      "\u001b[1;32m<ipython-input-6-e6c6dd4818f4>\u001b[0m in \u001b[0;36mopen_file\u001b[1;34m(file)\u001b[0m\n\u001b[0;32m      1\u001b[0m \u001b[1;32mdef\u001b[0m \u001b[0mopen_file\u001b[0m\u001b[1;33m(\u001b[0m\u001b[0mfile\u001b[0m\u001b[1;33m)\u001b[0m\u001b[1;33m:\u001b[0m\u001b[1;33m\u001b[0m\u001b[0m\n\u001b[1;32m----> 2\u001b[1;33m     \u001b[1;32mreturn\u001b[0m \u001b[0mopen\u001b[0m\u001b[1;33m(\u001b[0m\u001b[0mfile\u001b[0m\u001b[1;33m,\u001b[0m \u001b[1;34m'r'\u001b[0m\u001b[1;33m,\u001b[0m \u001b[0mencoding\u001b[0m\u001b[1;33m=\u001b[0m\u001b[1;34m'cp1254'\u001b[0m\u001b[1;33m)\u001b[0m\u001b[1;33m.\u001b[0m\u001b[0mread\u001b[0m\u001b[1;33m(\u001b[0m\u001b[1;33m)\u001b[0m\u001b[1;33m\u001b[0m\u001b[0m\n\u001b[0m",
      "\u001b[1;32m/home/sadikneipp/anaconda3/lib/python3.5/encodings/cp1254.py\u001b[0m in \u001b[0;36mdecode\u001b[1;34m(self, input, final)\u001b[0m\n\u001b[0;32m     20\u001b[0m \u001b[1;33m\u001b[0m\u001b[0m\n\u001b[0;32m     21\u001b[0m \u001b[1;32mclass\u001b[0m \u001b[0mIncrementalDecoder\u001b[0m\u001b[1;33m(\u001b[0m\u001b[0mcodecs\u001b[0m\u001b[1;33m.\u001b[0m\u001b[0mIncrementalDecoder\u001b[0m\u001b[1;33m)\u001b[0m\u001b[1;33m:\u001b[0m\u001b[1;33m\u001b[0m\u001b[0m\n\u001b[1;32m---> 22\u001b[1;33m     \u001b[1;32mdef\u001b[0m \u001b[0mdecode\u001b[0m\u001b[1;33m(\u001b[0m\u001b[0mself\u001b[0m\u001b[1;33m,\u001b[0m \u001b[0minput\u001b[0m\u001b[1;33m,\u001b[0m \u001b[0mfinal\u001b[0m\u001b[1;33m=\u001b[0m\u001b[1;32mFalse\u001b[0m\u001b[1;33m)\u001b[0m\u001b[1;33m:\u001b[0m\u001b[1;33m\u001b[0m\u001b[0m\n\u001b[0m\u001b[0;32m     23\u001b[0m         \u001b[1;32mreturn\u001b[0m \u001b[0mcodecs\u001b[0m\u001b[1;33m.\u001b[0m\u001b[0mcharmap_decode\u001b[0m\u001b[1;33m(\u001b[0m\u001b[0minput\u001b[0m\u001b[1;33m,\u001b[0m\u001b[0mself\u001b[0m\u001b[1;33m.\u001b[0m\u001b[0merrors\u001b[0m\u001b[1;33m,\u001b[0m\u001b[0mdecoding_table\u001b[0m\u001b[1;33m)\u001b[0m\u001b[1;33m[\u001b[0m\u001b[1;36m0\u001b[0m\u001b[1;33m]\u001b[0m\u001b[1;33m\u001b[0m\u001b[0m\n\u001b[0;32m     24\u001b[0m \u001b[1;33m\u001b[0m\u001b[0m\n",
      "\u001b[1;31mKeyboardInterrupt\u001b[0m: "
     ]
    }
   ],
   "source": [
    "targets = [get_target(open_file(f)) for f in files[:20000]]"
   ]
  },
  {
   "cell_type": "code",
   "execution_count": null,
   "metadata": {
    "collapsed": false
   },
   "outputs": [],
   "source": [
    "pd.Series(targets).value_counts().plot(kind='bar')"
   ]
  },
  {
   "cell_type": "code",
   "execution_count": 10,
   "metadata": {
    "collapsed": true
   },
   "outputs": [],
   "source": [
    "gen = document_iterator('../data/')"
   ]
  },
  {
   "cell_type": "code",
   "execution_count": 36,
   "metadata": {
    "collapsed": false,
    "scrolled": true
   },
   "outputs": [
    {
     "name": "stdout",
     "output_type": "stream",
     "text": [
      "TARGET:  0 \n",
      "\n",
      "                                                                                                    fls. 51\n",
      "\n",
      "             TRIBUNAL DE JUSTIÇA DO ESTADO DE SÃO PAULO                                             Este documento foi liberado nos autos em 04/11/2015 às 20:43, é cópia do original assinado digitalmente por RAFAEL VIEIRA PATARA e FATIMA TERESA DA SILVA MAIA.\n",
      "             COMARCA DE RANCHARIA                                                                      Para conferir o original, acesse o site https://esaj.tjsp.jus.br/esaj, informe o processo 0003285-61.2015.8.26.0491 e código C2181B.\n",
      "             JUIZADO ESPECIAL CÍVEL E CRIMINAL\n",
      "\n",
      "             Rua Sete de Setembro, 964, ., Vila Guaçu - CEP 19600-000, Fone: (18) 3265-3389,\n",
      "             Rancharia-SP - E-mail: ranchariajec@tjsp.jus.br\n",
      "\n",
      "                                             SENTENÇA\n",
      "\n",
      "Reclamação:         0003285-61.2015.8.26.0491 - Procedimento do Juizado\n",
      "\n",
      "                    Especial Cível\n",
      "\n",
      "Data da Audiência:\n",
      "\n",
      "Requerente:         ANTÔNIO AUGUSTO GOBBI ROSA\n",
      "\n",
      "Requerido:          BV FINANCEIRA S.A\n",
      "\n",
      "Juiz(a) de Direito: Dr(a). Rafael Vieira Patara\n",
      "\n",
      "                               CONCLUSÃO\n",
      "                               Em 3 de novembro de 2015 ,faço estes autos conclusos ao MM. Juiz de\n",
      "Direito desta Comarca de Rancharia, Estado de São Paulo. Eu, Fatima Teresa Da Silva Maia,\n",
      "Escrevente Técnico Judiciário, digitei e subscrevi.\n",
      "                            Feito nº 2015/001045 JEC\n",
      "                            Vistos\n",
      "                            Em face do pagamento integral da dívida por parte do(s)\n",
      "requerido(s)(fls.50), julgo EXTINTA ação, nos termos do artigo 269, III do Código de\n",
      "Processo Civil, ficando deferido o desentranhamento dos documentos que instruíram a\n",
      "inicial, mediante recibo nos autos.\n",
      "                            Decorrido o prazo de 90 (noventa) dias, contados do trânsito em\n",
      "julgado, os documentos instruidores do pedido serão inutilizados, nos termos do item 112,\n",
      "subseção IX, Cap. IV, das Normas de Serviço da Corregedoria Geral da Justiça.\n",
      "                            Publique-se e registre-se.\n",
      "                            Rancharia - SP, 3 de novembro de 2015.\n",
      "\n",
      "                    DATA\n",
      "                    Em, 3 de novembro de 2015, recebi estes autos em cartório.\n",
      "\f",
      "\n",
      "\n"
     ]
    }
   ],
   "source": [
    "text = next(gen)\n",
    "print('TARGET: ',get_target(text),'\\n')\n",
    "print(text)"
   ]
  },
  {
   "cell_type": "code",
   "execution_count": 37,
   "metadata": {
    "collapsed": true
   },
   "outputs": [],
   "source": [
    "targets = [get_target(open_file(f)) for f in files]\n",
    "df = pd.DataFrame({'Files':files, 'Target': targets})\n",
    "df.to_csv('./../Processed/targets.csv', index=False)"
   ]
  },
  {
   "cell_type": "code",
   "execution_count": 42,
   "metadata": {
    "collapsed": false
   },
   "outputs": [],
   "source": [
    "df['Files'] = df.Files.apply(path.basename)\n",
    "df.to_csv('./../Processed/targets.csv')"
   ]
  },
  {
   "cell_type": "code",
   "execution_count": 44,
   "metadata": {
    "collapsed": false,
    "scrolled": true
   },
   "outputs": [
    {
     "name": "stdout",
     "output_type": "stream",
     "text": [
      ",Files,Target\r\n",
      "0,VAC1035901_1.txt,0\r\n",
      "1,VAC1019308_1.txt,0\r\n",
      "2,VAC1007240_1.txt,0\r\n",
      "3,VAC0976960_1.txt,0\r\n"
     ]
    }
   ],
   "source": [
    "!head -n5 './../Processed/targets.csv'"
   ]
  },
  {
   "cell_type": "code",
   "execution_count": null,
   "metadata": {
    "collapsed": true
   },
   "outputs": [],
   "source": []
  }
 ],
 "metadata": {
  "anaconda-cloud": {},
  "kernelspec": {
   "display_name": "Python [Root]",
   "language": "python",
   "name": "Python [Root]"
  },
  "language_info": {
   "codemirror_mode": {
    "name": "ipython",
    "version": 3
   },
   "file_extension": ".py",
   "mimetype": "text/x-python",
   "name": "python",
   "nbconvert_exporter": "python",
   "pygments_lexer": "ipython3",
   "version": "3.5.2"
  }
 },
 "nbformat": 4,
 "nbformat_minor": 2
}
