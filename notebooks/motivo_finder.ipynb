{
 "cells": [
  {
   "cell_type": "code",
   "execution_count": 96,
   "metadata": {
    "collapsed": false
   },
   "outputs": [],
   "source": [
    "%matplotlib inline\n",
    "import pandas as pd\n",
    "from glob import glob\n",
    "from os import path\n",
    "import re\n",
    "import matplotlib.pyplot as plt\n",
    "import numpy as np\n",
    "import s"
   ]
  },
  {
   "cell_type": "code",
   "execution_count": 5,
   "metadata": {
    "collapsed": true
   },
   "outputs": [],
   "source": [
    "def document_iterator(DIR):\n",
    "    for file in glob(path.join(DIR, '*.txt')):\n",
    "        yield open(file, 'r', encoding='cp1254').read()"
   ]
  },
  {
   "cell_type": "code",
   "execution_count": 104,
   "metadata": {
    "collapsed": true
   },
   "outputs": [],
   "source": [
    "def get_motivo_frequency(text):\n",
    "    result_ind = re.findall(r'indenização|dano moral|negativação|reparação de danos|fraudulento|fraude|lucro cessante|dano material', text, re.DOTALL | re.IGNORECASE)\n",
    "    result_rev = re.findall(r'revisão|cláusulas contratuais|comissão de permanência|juros moratórios|encargos', text, re.DOTALL | re.IGNORECASE)\n",
    "    result_tarifa = re.findall(r'Repetição de indébito|Tarifa de cadastro|Serviços de terceiros|Custo efetivo total|Tarifas', text, re.DOTALL | re.IGNORECASE)\n",
    "    return (len(result_ind), len(result_rev), len(result_tarifa))"
   ]
  },
  {
   "cell_type": "code",
   "execution_count": null,
   "metadata": {
    "collapsed": true
   },
   "outputs": [],
   "source": [
    "def get_motivo(text):\n",
    "    ind, rev, tarifa = get_motivo_frequency(text)\n",
    "    if"
   ]
  },
  {
   "cell_type": "code",
   "execution_count": 8,
   "metadata": {
    "collapsed": true
   },
   "outputs": [],
   "source": [
    "files = glob(path.join('../data/', '*.txt'))"
   ]
  },
  {
   "cell_type": "code",
   "execution_count": null,
   "metadata": {
    "collapsed": false
   },
   "outputs": [],
   "source": [
    "freqs = []\n",
    "for file in files:\n",
    "    freqs.append(get_motivo_frequency(open_file(file)))"
   ]
  },
  {
   "cell_type": "code",
   "execution_count": null,
   "metadata": {
    "collapsed": false,
    "scrolled": true
   },
   "outputs": [],
   "source": [
    "df = pd.DataFrame(freqs)\n",
    "plt.figure()\n",
    "plt.xlim(0,35)\n",
    "plt.ylim(0,35)\n",
    "plt.scatter(df[2], df[1])\n",
    "t = np.arange(0., 35., 0.2)\n",
    "plt.plot(t, t, 'r--')\n",
    "plt.figure()\n",
    "# plt.scatter(df[1])\n",
    "# plt.figure()\n",
    "# plt.scatter(df[2])"
   ]
  },
  {
   "cell_type": "code",
   "execution_count": null,
   "metadata": {
    "collapsed": false,
    "scrolled": true
   },
   "outputs": [],
   "source": [
    "df.columns = ['indenização', 'revisão', 'tarifa']\n",
    "df['file'] = files"
   ]
  },
  {
   "cell_type": "code",
   "execution_count": null,
   "metadata": {
    "collapsed": false,
    "scrolled": true
   },
   "outputs": [],
   "source": [
    "label = []\n",
    "for row in df.itertuples():\n",
    "    if row.indenização > row.revisão and row.indenização > row.tarifa:\n",
    "        label.append('indenização')\n",
    "    elif row.revisão > row.indenização and row.revisão > row.tarifa :\n",
    "        label.append('revisão')\n",
    "    elif row.tarifa > row.revisão and  row.tarifa > row.indenização:\n",
    "        label.append('tarifa')\n",
    "    else:\n",
    "        label.append(np.nan)\n",
    "df['label'] = pd.Series(label)"
   ]
  },
  {
   "cell_type": "code",
   "execution_count": null,
   "metadata": {
    "collapsed": false,
    "scrolled": true
   },
   "outputs": [],
   "source": [
    "df"
   ]
  },
  {
   "cell_type": "code",
   "execution_count": null,
   "metadata": {
    "collapsed": false,
    "scrolled": true
   },
   "outputs": [],
   "source": [
    "df['label'].isnull().sum()"
   ]
  },
  {
   "cell_type": "code",
   "execution_count": 34,
   "metadata": {
    "collapsed": true
   },
   "outputs": [],
   "source": [
    "def open_file(file):\n",
    "    return open(file, 'r', encoding='cp1254').read()"
   ]
  },
  {
   "cell_type": "code",
   "execution_count": 29,
   "metadata": {
    "collapsed": false
   },
   "outputs": [
    {
     "ename": "KeyboardInterrupt",
     "evalue": "",
     "output_type": "error",
     "traceback": [
      "\u001b[1;31m---------------------------------------------------------------------------\u001b[0m",
      "\u001b[1;31mKeyboardInterrupt\u001b[0m                         Traceback (most recent call last)",
      "\u001b[1;32m<ipython-input-29-a9fd95f63fa1>\u001b[0m in \u001b[0;36m<module>\u001b[1;34m()\u001b[0m\n\u001b[1;32m----> 1\u001b[1;33m \u001b[0mtargets\u001b[0m \u001b[1;33m=\u001b[0m \u001b[1;33m[\u001b[0m\u001b[0mget_target\u001b[0m\u001b[1;33m(\u001b[0m\u001b[0mopen_file\u001b[0m\u001b[1;33m(\u001b[0m\u001b[0mf\u001b[0m\u001b[1;33m)\u001b[0m\u001b[1;33m)\u001b[0m \u001b[1;32mfor\u001b[0m \u001b[0mf\u001b[0m \u001b[1;32min\u001b[0m \u001b[0mfiles\u001b[0m\u001b[1;33m[\u001b[0m\u001b[1;33m:\u001b[0m\u001b[1;36m20000\u001b[0m\u001b[1;33m]\u001b[0m\u001b[1;33m]\u001b[0m\u001b[1;33m\u001b[0m\u001b[0m\n\u001b[0m",
      "\u001b[1;32m<ipython-input-29-a9fd95f63fa1>\u001b[0m in \u001b[0;36m<listcomp>\u001b[1;34m(.0)\u001b[0m\n\u001b[1;32m----> 1\u001b[1;33m \u001b[0mtargets\u001b[0m \u001b[1;33m=\u001b[0m \u001b[1;33m[\u001b[0m\u001b[0mget_target\u001b[0m\u001b[1;33m(\u001b[0m\u001b[0mopen_file\u001b[0m\u001b[1;33m(\u001b[0m\u001b[0mf\u001b[0m\u001b[1;33m)\u001b[0m\u001b[1;33m)\u001b[0m \u001b[1;32mfor\u001b[0m \u001b[0mf\u001b[0m \u001b[1;32min\u001b[0m \u001b[0mfiles\u001b[0m\u001b[1;33m[\u001b[0m\u001b[1;33m:\u001b[0m\u001b[1;36m20000\u001b[0m\u001b[1;33m]\u001b[0m\u001b[1;33m]\u001b[0m\u001b[1;33m\u001b[0m\u001b[0m\n\u001b[0m",
      "\u001b[1;32m<ipython-input-6-e6c6dd4818f4>\u001b[0m in \u001b[0;36mopen_file\u001b[1;34m(file)\u001b[0m\n\u001b[0;32m      1\u001b[0m \u001b[1;32mdef\u001b[0m \u001b[0mopen_file\u001b[0m\u001b[1;33m(\u001b[0m\u001b[0mfile\u001b[0m\u001b[1;33m)\u001b[0m\u001b[1;33m:\u001b[0m\u001b[1;33m\u001b[0m\u001b[0m\n\u001b[1;32m----> 2\u001b[1;33m     \u001b[1;32mreturn\u001b[0m \u001b[0mopen\u001b[0m\u001b[1;33m(\u001b[0m\u001b[0mfile\u001b[0m\u001b[1;33m,\u001b[0m \u001b[1;34m'r'\u001b[0m\u001b[1;33m,\u001b[0m \u001b[0mencoding\u001b[0m\u001b[1;33m=\u001b[0m\u001b[1;34m'cp1254'\u001b[0m\u001b[1;33m)\u001b[0m\u001b[1;33m.\u001b[0m\u001b[0mread\u001b[0m\u001b[1;33m(\u001b[0m\u001b[1;33m)\u001b[0m\u001b[1;33m\u001b[0m\u001b[0m\n\u001b[0m",
      "\u001b[1;32m/home/sadikneipp/anaconda3/lib/python3.5/encodings/cp1254.py\u001b[0m in \u001b[0;36mdecode\u001b[1;34m(self, input, final)\u001b[0m\n\u001b[0;32m     20\u001b[0m \u001b[1;33m\u001b[0m\u001b[0m\n\u001b[0;32m     21\u001b[0m \u001b[1;32mclass\u001b[0m \u001b[0mIncrementalDecoder\u001b[0m\u001b[1;33m(\u001b[0m\u001b[0mcodecs\u001b[0m\u001b[1;33m.\u001b[0m\u001b[0mIncrementalDecoder\u001b[0m\u001b[1;33m)\u001b[0m\u001b[1;33m:\u001b[0m\u001b[1;33m\u001b[0m\u001b[0m\n\u001b[1;32m---> 22\u001b[1;33m     \u001b[1;32mdef\u001b[0m \u001b[0mdecode\u001b[0m\u001b[1;33m(\u001b[0m\u001b[0mself\u001b[0m\u001b[1;33m,\u001b[0m \u001b[0minput\u001b[0m\u001b[1;33m,\u001b[0m \u001b[0mfinal\u001b[0m\u001b[1;33m=\u001b[0m\u001b[1;32mFalse\u001b[0m\u001b[1;33m)\u001b[0m\u001b[1;33m:\u001b[0m\u001b[1;33m\u001b[0m\u001b[0m\n\u001b[0m\u001b[0;32m     23\u001b[0m         \u001b[1;32mreturn\u001b[0m \u001b[0mcodecs\u001b[0m\u001b[1;33m.\u001b[0m\u001b[0mcharmap_decode\u001b[0m\u001b[1;33m(\u001b[0m\u001b[0minput\u001b[0m\u001b[1;33m,\u001b[0m\u001b[0mself\u001b[0m\u001b[1;33m.\u001b[0m\u001b[0merrors\u001b[0m\u001b[1;33m,\u001b[0m\u001b[0mdecoding_table\u001b[0m\u001b[1;33m)\u001b[0m\u001b[1;33m[\u001b[0m\u001b[1;36m0\u001b[0m\u001b[1;33m]\u001b[0m\u001b[1;33m\u001b[0m\u001b[0m\n\u001b[0;32m     24\u001b[0m \u001b[1;33m\u001b[0m\u001b[0m\n",
      "\u001b[1;31mKeyboardInterrupt\u001b[0m: "
     ]
    }
   ],
   "source": [
    "motivos = [get_motivo(open_file(f)) for f in files[:100]]"
   ]
  },
  {
   "cell_type": "code",
   "execution_count": null,
   "metadata": {
    "collapsed": false
   },
   "outputs": [],
   "source": [
    "pd.Series(targets).value_counts().plot(kind='bar')"
   ]
  },
  {
   "cell_type": "code",
   "execution_count": 26,
   "metadata": {
    "collapsed": true
   },
   "outputs": [],
   "source": [
    "gen = document_iterator('../data/')"
   ]
  },
  {
   "cell_type": "code",
   "execution_count": 30,
   "metadata": {
    "collapsed": false,
    "scrolled": true
   },
   "outputs": [
    {
     "name": "stdout",
     "output_type": "stream",
     "text": [
      "TARGET:  0 \n",
      "\n",
      "                                                         TRIBUNAL DE JUSTIÇA DE MINAS GERAIS\n",
      "                                                                         PODER JUDICIÁRIO\n",
      "                                                                          BELO HORIZONTE\n",
      "\n",
      "                                                             04ª UNIDADE JURISDICIONAL CÍVEL\n",
      "\n",
      "                                       RUAPADRE ROLIM, 424, SANTA EFIGÊNIA, BELO HORIZONTE - MG, FONE: (31) 3289-9300\n",
      "\n",
      "                                                    SENTENÇA\n",
      "\n",
      "PROCESSO: 9057125.33.2015.813.0024 - Procedimento do Juizado Especial Cível\n",
      "\n",
      "PROMOVENTE(S):\n",
      "ANTONIO EUSTAQUIO SOARES\n",
      "\n",
      "PROMOVIDO(S):\n",
      "BANCO BV FINANCEIRA S/A\n",
      "\n",
      "            Vistos,etc.\n",
      "\n",
      "            Dispensado o relatório, nos termos do art. 38 da Lei 9099/95.\n",
      "\n",
      "            Insurge-se o demandante contra a cobrança de taxas no contrato de financiamento\n",
      "celebrado com o requerido referente a serviços de terceiros e tarifa de registro de contrato.\n",
      "\n",
      "            O réu defende na contestação a regularidade das cobranças.\n",
      "\n",
      "            A questão, contudo, foi uniformizada pelo Superior Tribunal de Justiça, cuja decisão em\n",
      "recurso repetitivo deverá orientar a jurisprudência nas instâncias inferiores de forma a alcançar\n",
      "uma uniformidade no tratamento da matéria e consequente maior estabilidade nas relações\n",
      "jurídicas.\n",
      "\n",
      "                           CIVIL E PROCESSUAL CIVIL. RECURSO ESPECIAL. CONTRATO DE\n",
      "                           FINANCIAMENTO COM GARANTIA DE ALIENAÇÃO FIDUCIÁRIA.\n",
      "                           COMISSÃO DE PERMANÊNCIA. COMPENSAÇÃO/REPETIÇÃO\n",
      "                           SIMPLES DO INDÉBITO. RECURSOS REPETITIVOS. TARIFAS\n",
      "                           BANCÁRIAS. TAC E TEC. EXPRESSA PREVISÃO CONTRATUAL.\n",
      "                           COBRANÇA. LEGITIMIDADE. PRECEDENTES. FINANCIAMENTO\n",
      "                           DO IOF. POSSIBILIDADE.\n",
      "\n",
      "                           1. A comissão de permanência não pode ser cumulada com quaisquer outros\n",
      "                           encargos remuneratórios ou moratórios (enunciados Súmulas 30, 294 e 472\n",
      "                           do STJ).\n",
      "\n",
      "                           2. Tratando-se de relação de consumo ou de contrato de adesão, a\n",
      "                           compensação/repetição simples do indébito independe da prova do erro\n",
      "                           (Enunciado 322 da Súmula do STJ).\n",
      "\n",
      "                           3. Nos termos dos arts. 4º e 9º da Lei 4.595/1964, recebida pela Constituição\n",
      "\f",
      "como lei complementar, compete ao Conselho Monetário Nacional dispor\n",
      "sobre taxa de juros e sobre a remuneração dos serviços bancários, e ao\n",
      "Banco Central do Brasil fazer cumprir as normas expedidas pelo CMN.\n",
      "\n",
      "4. Ao tempo da Resolução CMN 2.303/1996, a orientação estatal quanto à\n",
      "cobrança de tarifas pelas instituições financeiras era essencialmente não\n",
      "intervencionista, vale dizer, \"a regulamentação facultava às instituições\n",
      "financeiras a cobrança pela prestação de quaisquer tipos de serviços, com\n",
      "exceção daqueles que a norma definia como básicos, desde que fossem\n",
      "efetivamente contratados e prestados ao cliente, assim como respeitassem os\n",
      "procedimentos voltados a assegurar a transparência da política de preços\n",
      "adotada pela instituição.\"\n",
      "\n",
      "5. Com o início da vigência da Resolução CMN 3.518/2007, em 30.4.2008,\n",
      "a cobrança por serviços bancários prioritários para pessoas físicas ficou\n",
      "limitada às hipóteses taxativamente previstas em norma padronizadora\n",
      "expedida pelo Banco Central do Brasil.\n",
      "\n",
      "6. A Tarifa de Abertura de Crédito (TAC) e a Tarifa de Emissão de Carnê\n",
      "(TEC) não foram previstas na Tabela anexa à Circular BACEN 3.371/2007 e\n",
      "atos normativos que a sucederam, de forma que não mais é válida sua\n",
      "pactuação em contratos posteriores a 30.4.2008.\n",
      "\n",
      "7. A cobrança de tais tarifas (TAC e TEC) é permitida, portanto, se baseada\n",
      "em contratos celebrados até 30.4.2008, ressalvado abuso devidamente\n",
      "comprovado caso a caso, por meio da invocação de parâmetros objetivos de\n",
      "mercado e circunstâncias do caso concreto, não bastando a mera remissão a\n",
      "conceitos jurídicos abstratos ou à convicção subjetiva do magistrado.\n",
      "\n",
      "8. Permanece legítima a estipulação da Tarifa de Cadastro, a qual remunera\n",
      "o serviço de \"realização de pesquisa em serviços de proteção ao crédito,\n",
      "base de dados e informações cadastrais, e tratamento de dados e informações\n",
      "necessários ao inicio de relacionamento decorrente da abertura de conta de\n",
      "depósito à vista ou de poupança ou contratação de operação de crédito ou de\n",
      "arrendamento mercantil, não podendo ser cobrada cumulativamente\"\n",
      "(Tabela anexa à vigente Resolução CMN 3.919/2010, com a redação dada\n",
      "pela Resolução 4.021/2011).\n",
      "\n",
      "9. É lícito aos contratantes convencionar o pagamento do Imposto sobre\n",
      "Operações Financeiras e de Crédito (IOF) por meio financiamento acessório\n",
      "ao mútuo principal, sujeitando-o aos mesmos encargos contratuais.\n",
      "\n",
      "10. Teses para os efeitos do art. 543-C do CPC:\n",
      "\f",
      "                           - 1ª Tese: Nos contratos bancários celebrados até 30.4.2008 (fim da vigência\n",
      "                           da Resolução CMN 2.303/96) era válida a pactuação das tarifas de abertura\n",
      "                           de crédito (TAC) e de emissão de carnê (TEC), ou outra denominação para o\n",
      "                           mesmo fato gerador, ressalvado o exame de abusividade em cada caso\n",
      "                           concreto.\n",
      "\n",
      "                           - 2ª Tese: Com a vigência da Resolução CMN 3.518/2007, em 30.4.2008, a\n",
      "                           cobrança por serviços bancários prioritários para pessoas físicas ficou\n",
      "                           limitada às hipóteses taxativamente previstas em norma padronizadora\n",
      "                           expedida pela autoridade monetária. Desde então, não mais tem respaldo\n",
      "                           legal a contratação da Tarifa de Emissão de Carnê (TEC) e da Tarifa de\n",
      "                           Abertura de Crédito (TAC), ou outra denominação para o mesmo fato\n",
      "                           gerador. Permanece válida a Tarifa de Cadastro expressamente tipificada em\n",
      "                           ato normativo padronizador da autoridade monetária, a qual somente pode\n",
      "                           ser cobrada no início do relacionamento entre o consumidor e a instituição\n",
      "                           financeira.\n",
      "\n",
      "                           - 3ª Tese: Podem as partes convencionar o pagamento do Imposto sobre\n",
      "                           Operações Financeiras e de Crédito (IOF) por meio de financiamento\n",
      "                           acessório ao mútuo principal, sujeitando-o aos mesmos encargos contratuais.\n",
      "\n",
      "                           11 . Recurso especial conhecido e parcialmente provido. (STJ, REsp\n",
      "                           1255573/RS, Segunda Seção, relatora: Min. Maria Isabel Gallotti, j.\n",
      "                           28/08/2013, DJUe 24/10/2013)\n",
      "\n",
      "            Embora apenas as tarifas de abertura de crédito e de emissão de carnê (TAC e TEC)\n",
      "tenham sido declaradas inexigíveis, as diretrizes estabelecidas no fundamento da referida decisão\n",
      "poderão ser adotadas para a análise da validade de todas as demais tarifas cobradas pelas\n",
      "instituições financeiras.\n",
      "\n",
      "            Basicamente o que se decidiu foi que o Conselho Monetário Nacional possui\n",
      "competência para disciplinar o crédito em todas as suas modalidades e limitar, sempre que\n",
      "necessário, a remuneração de operações e serviços bancários ou financeiros, nos termos do art. 4º,\n",
      "VI e IX da lei 4.595/1964.\n",
      "\n",
      "            No exercício desta competência, o Conselho Monetário Nacional teria validamente\n",
      "editado as resoluções 2.303/1996, 3.518/2007, alterada pela 3.696/2009 e 3.919/10, em vigor a\n",
      "partir de 1º/03/2011, posteriormente alterada pelas resoluções 3.954/2011, em vigor a partir de\n",
      "1º/03/2011, 4.021/2011 e 4.198/2013.\n",
      "\n",
      "            A primeira, não intervencionista, autorizou que as partes livremente convencionassem\n",
      "em seus negócios jurídicos as tarifas de serviços bancários a serem exigidas, excetuando apenas os\n",
      "serviços considerados básicos.\n",
      "\f",
      "            As demais, por sua vez, proibiram a cobrança pelos serviços essenciais e limitaram a\n",
      "cobrança de tarifas pelos serviços prioritários - assim considerados aqueles relacionados às contas\n",
      "de depósito, transferências de recursos, operações de crédito e cadastro e serviços diferenciados,\n",
      "apenas àqueles definidos pelo Banco Central, respectivamente, na circular 3.371/2007 e na tabela\n",
      "anexa à resolução 3.919/2010.\n",
      "\n",
      "            Em outras palavras, consideraram-se válidas todas as tarifas convencionadas nos\n",
      "contratos celebrados até 30/04/2008, quando entrou em vigor a resolução 3.518/2007 e a partir daí,\n",
      "apenas aquelas referentes aos serviços prioritários listados na circular 3.371/2007 e,\n",
      "posteriormente, a partir de 1º/03/2011, na tabela anexa à resolução 3.919/2010.\n",
      "\n",
      "            Nessas condições, a tarifa de cadastro é devida, desde que cobrada uma única vez no\n",
      "relacionamento entre o cliente e a instituição financeira para a remuneração do trabalho de pesquisa\n",
      "em serviços de proteção ao crédito, base de dados e informações cadastrais, e tratamento de dados\n",
      "e informações necessários ao início de relacionamento de conta-corrente de depósitos, conta de\n",
      "depósitos de poupança e operações de crédito e de arrendamento mercantil.\n",
      "\n",
      "            Também se admitiu o ressarcimento parcelado do imposto de operações financeiras que\n",
      "incidiu sobre o financiamento, sujeitando-o aos mesmos encargos contratuais.\n",
      "\n",
      "            Igualmente devida a tarifa de avaliação, reavaliação e substituição de bens recebidos em\n",
      "garantia, posto que admitida no art. 5º, VI da resolução 3.919/2010.\n",
      "\n",
      "            Já as tarifas de abertura de crédito (TAC), emissão de carnê (TEC), registro e gravame\n",
      "passaram a não ser admissíveis a partir de 30/04/2008, posto que não listadas nem na circular\n",
      "3.371/2007, nem na tabela anexa à resolução 3.919/2010.\n",
      "\n",
      "            Todas as resoluções acima referidas admitiam, também, que as instituições financeiras se\n",
      "ressarcissem dos serviços de terceiros, os quais, até 01/03/2011, com a entrada em vigor da\n",
      "resolução 3.954, de 24/02/2011, que alterou a 3.919/2010, não eram computados como tarifas de\n",
      "serviços bancários.\n",
      "\n",
      "            A partir de então, também ficou vedado o repasse aos mutuários das comissões pagas aos\n",
      "correspondentes bancários, em geral designados nos contratos como promotores de venda.\n",
      "\n",
      "            Sendo assim, seguindo a linha de raciocínio da decisão do Superior Tribunal de Justiça, o\n",
      "ressarcimento de serviços de terceiros e o reembolso das comissões dos correspondentes bancários\n",
      "puderam ser validamente convencionados até 28/02/2011.\n",
      "\n",
      "            Por outro lado, viola o princípio da transparência a cláusula que eventualmente previr o\n",
      "ressarcimento dos serviços de terceiros sem, contudo, discriminá-los.\n",
      "\n",
      "            Com efeito, o princípio da transparência deixou de ser apenas um mero dever contratual\n",
      "de cooperação entre as partes, sendo erigido a uma obrigação imposta no art. 6º, III da lei 8.078/90\n",
      "ao fornecedor que deverá proporcionar ao consumidor, de forma adequada e clara, um\n",
      "\f",
      "conhecimento pormenorizado de todas as características e circunstâncias que serão necessárias à\n",
      "tomada da decisão de adquirir ou não o produto ou contratar um serviço.\n",
      "\n",
      "            Evidente que em se tratando de norma de ordem pública, esta obrigação não poderá ser\n",
      "transferida contratualmente ao consumidor incumbindo-lhe de ele próprio se certificar das\n",
      "informações que deveriam ter sido prestadas pelo fornecedor.\n",
      "\n",
      "            Ocorre que a designação genérica de serviços de terceiros não esclarece ao mutuário de\n",
      "forma adequada quais os serviços objeto do ressarcimento, impedindo-o de conferir a procedência\n",
      "da obrigação assumida e, com isso, autorizando a cobrança arbitrária de qualquer valor a este título.\n",
      "\n",
      "            Por isso, ofende o disposto no inc. III do art. 6º da lei 8.078/90 e, como tal, não obriga o\n",
      "consumidor, nos termos do art. 46 do mesmo diploma legal.\n",
      "\n",
      "            Também poderão ser cobrados os seguros de qualquer natureza, desde que reservada ao\n",
      "consumidor a opção de não os contratar, eis que a imposição ao consumidor do valor do prêmio de\n",
      "um seguro escolhido pela própria instituição financeira, como condição para a concessão de um\n",
      "financiamento caracterizaria venda casada, prática, esta, vedada no art. 39, I da lei 8.078/90.\n",
      "\n",
      "            Nessas condições, inexistindo prova nos autos de que a parte autora já possuía cadastro\n",
      "prévio junto à instituição financeira requerida, reputa-se válida a cobrança da tarifa de cadastro.\n",
      "\n",
      "            Por outro lado, à medida em que o contrato foi celebrado em 16.04.2009, revela-se\n",
      "abusiva a cobrança dos serviços de terceiros e tarifa de registro de contrato.\n",
      "\n",
      "            Daí se impor a repetição simples do indébito, refente ao serviços de terceiros no importe\n",
      "total de R$1.177,82 (mil cento e setenta e sete reais e oitenta e dois centavos).\n",
      "\n",
      "            Isso posto, JULGO PROCEDENTE O PEDIDO para o fim de condenar o réu a pagar\n",
      "ao autor a importância de R$1.177,82 (mil cento e setenta e sete reais e oitenta e dois centavos),\n",
      "corrigida monetariamente segundo os índices sugeridos pela corregedoria geral de justiça do estado\n",
      "de minas gerais a partir do ajuizamento da ação e acrescido de juros de mora de 1% (um por cento)\n",
      "ao mês contados a partir da citação.\n",
      "\n",
      "            Advirto a ré de que a sentença deverá ser voluntariamente cumprida no prazo de 15\n",
      "(quinze) dias contado do seu trânsito em julgado, independentemente de nova citação ou intimação,\n",
      "sob pena de multa de 10% sobre o valor da condenação.\n",
      "\n",
      "            EXTINGO SEM RESOLUÇÃO DO MÉRITO O PEDIDO DE ASSISTÊNCIA\n",
      "JUDICIÁRIA GRATUITA realizado na petição inicial, por falta de interesse de agir, uma vez que\n",
      "há isenção de pagamento de despesas processuais no primeiro grau de jurisdição, nos termos do art.\n",
      "55 da Lei 9099/90, o que retira o interesse processual da parte autora neste momento processual\n",
      "quanto ao benefício pretendido.\n",
      "\n",
      "            Sem custas e honorários, nos termos do art. 55 da lei 9.099/95.\n",
      "\f",
      "Publique-se, registre-se e intimem-se.\n",
      "\n",
      "                                  BELO HORIZONTE, 19 de Outubro de 2015\n",
      "                                   SERGIO CASTRO DA CUNHA PEIXOTO\n",
      "                               Documento assinado eletronicamente pelo(a) juiz(íza)\n",
      "\f",
      "\n",
      "\n"
     ]
    }
   ],
   "source": [
    "text = next(gen)\n",
    "print('TARGET: ',get_target(text),'\\n')\n",
    "print(text)"
   ]
  },
  {
   "cell_type": "code",
   "execution_count": 37,
   "metadata": {
    "collapsed": true
   },
   "outputs": [],
   "source": [
    "targets = [get_target(open_file(f)) for f in files]\n",
    "df = pd.DataFrame({'Files':files, 'Target': targets})\n",
    "df.to_csv('./../Processed/targets.csv', index=False)"
   ]
  },
  {
   "cell_type": "code",
   "execution_count": 42,
   "metadata": {
    "collapsed": false
   },
   "outputs": [],
   "source": [
    "df['Files'] = df.Files.apply(path.basename)\n",
    "df.to_csv('./../Processed/targets.csv')"
   ]
  },
  {
   "cell_type": "code",
   "execution_count": 44,
   "metadata": {
    "collapsed": false,
    "scrolled": true
   },
   "outputs": [
    {
     "name": "stdout",
     "output_type": "stream",
     "text": [
      ",Files,Target\r\n",
      "0,VAC1035901_1.txt,0\r\n",
      "1,VAC1019308_1.txt,0\r\n",
      "2,VAC1007240_1.txt,0\r\n",
      "3,VAC0976960_1.txt,0\r\n"
     ]
    }
   ],
   "source": [
    "!head -n5 './../Processed/targets.csv'"
   ]
  },
  {
   "cell_type": "code",
   "execution_count": null,
   "metadata": {
    "collapsed": true
   },
   "outputs": [],
   "source": []
  }
 ],
 "metadata": {
  "anaconda-cloud": {},
  "kernelspec": {
   "display_name": "Python [Root]",
   "language": "python",
   "name": "Python [Root]"
  },
  "language_info": {
   "codemirror_mode": {
    "name": "ipython",
    "version": 3
   },
   "file_extension": ".py",
   "mimetype": "text/x-python",
   "name": "python",
   "nbconvert_exporter": "python",
   "pygments_lexer": "ipython3",
   "version": "3.5.2"
  }
 },
 "nbformat": 4,
 "nbformat_minor": 2
}
